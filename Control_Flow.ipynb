{
 "cells": [
  {
   "cell_type": "markdown",
   "metadata": {},
   "source": [
    "## If Statement\n",
    "An if statement is a conditional statement that runs or skips code based on whether a condition is true or false. Here's a simple example.\n",
    "\n",
    "```python\n",
    "if phone_balance < 5:\n",
    "    phone_balance += 10\n",
    "    bank_balance -= 10\n",
    "   ```\n",
    "   \n",
    "## If, Elif, Else\n",
    "In addition to the if clause, there are two other optional clauses often used with an if statement. For example:\n",
    "```python\n",
    "if season == 'spring':\n",
    "    print('plant the garden!')\n",
    "elif season == 'summer':\n",
    "    print('water the garden!')\n",
    "elif season == 'fall':\n",
    "    print('harvest the garden!')\n",
    "elif season == 'winter':\n",
    "    print('stay indoors!')\n",
    "else:\n",
    "    print('unrecognized season')\n",
    "   ```\n"
   ]
  },
  {
   "cell_type": "code",
   "execution_count": 6,
   "metadata": {},
   "outputs": [
    {
     "name": "stdout",
     "output_type": "stream",
     "text": [
      "10\n",
      "50\n",
      "Number 145 is odd.\n"
     ]
    }
   ],
   "source": [
    "#First Example - try changing the value of phone_balance\n",
    "phone_balance = 10\n",
    "bank_balance = 50\n",
    "\n",
    "if phone_balance < 10:\n",
    "    phone_balance += 10\n",
    "    bank_balance -= 10\n",
    "\n",
    "print(phone_balance)\n",
    "print(bank_balance)\n",
    "\n",
    "#Second Example - try changing the value of number\n",
    "\n",
    "number = 145\n",
    "if number % 2 == 0:\n",
    "    print(\"Number \" + str(number) + \" is even.\")\n",
    "else:\n",
    "    print(\"Number \" + str(number) + \" is odd.\")\n",
    "\n",
    "#Third Example - try to change the value of age\n",
    "age = 35\n",
    "\n",
    "# Here are the age limits for bus fares\n",
    "free_up_to_age = 4\n",
    "child_up_to_age = 18\n",
    "senior_from_age = 65"
   ]
  },
  {
   "cell_type": "markdown",
   "metadata": {},
   "source": [
    "Write an if statement that lets a competitor know which of these prizes they won based on the number of points they scored, which is stored in the integer variable points.\n",
    "\n",
    "|Points\t| Prize|\n",
    "|--|--|\n",
    "|1 - 50|no prize|\n",
    "|51 - 150|wooden rabbit|\n",
    "|151 - 180|wafer-thin mint|\n",
    "|181 - 200|penguin|"
   ]
  },
  {
   "cell_type": "code",
   "execution_count": 7,
   "metadata": {},
   "outputs": [
    {
     "name": "stdout",
     "output_type": "stream",
     "text": [
      "Congratulations! You won a wafer-thin mint!\n"
     ]
    }
   ],
   "source": [
    "#points = 40  # use this input to make your submission\n",
    "#points = 60  # use this input to make your submission\n",
    "points = 174  # use this input to make your submission\n",
    "#points = 190  # use this input to make your submission\n",
    "\n",
    "# write your if statement here\n",
    "if points in range(1,50) :\n",
    "    result = 'Oh dear, no prize this time.'\n",
    "elif points in range(51,150) :\n",
    "    result = 'Congratulations! You won a wooden rabbit!'\n",
    "elif points in range(151,180) :\n",
    "    result = 'Congratulations! You won a wafer-thin mint!'\n",
    "elif points in range(181,200) :\n",
    "    result = 'Congratulations! You won a penguin!'\n",
    "\n",
    "print(result)\n",
    "\n"
   ]
  },
  {
   "cell_type": "code",
   "execution_count": 13,
   "metadata": {},
   "outputs": [
    {
     "name": "stdout",
     "output_type": "stream",
     "text": [
      "Oops!  Your guess was too high.\n"
     ]
    }
   ],
   "source": [
    "# Guess My Number\n",
    "\n",
    "answer = 30\n",
    "guess = 40\n",
    "\n",
    "if guess < answer :\n",
    "    result = \"Oops!  Your guess was too low.\"\n",
    "elif guess > answer :\n",
    "    result = \"Oops!  Your guess was too high.\"\n",
    "elif guess == answer :\n",
    "    result = \"Nice!  Your guess matched the answer!\"\n",
    "\n",
    "print(result)"
   ]
  },
  {
   "cell_type": "code",
   "execution_count": 19,
   "metadata": {},
   "outputs": [
    {
     "name": "stdout",
     "output_type": "stream",
     "text": [
      "Since you're from NY, your total cost is 108.89999999999999.\n"
     ]
    }
   ],
   "source": [
    "# Tax Purchase\n",
    "# '''\n",
    "# Depending on where an individual is from we need to tax them \n",
    "# appropriately.  The states of CA, MN, and \n",
    "# NY have taxes of 7.5%, 9.5%, and 8.9% respectively.\n",
    "# Use this information to take the amount of a purchase and \n",
    "# the corresponding state to assure that they are taxed by the right\n",
    "# amount.\n",
    "# '''\n",
    "state = 'NY'\n",
    "purchase_amount = 100.00\n",
    "\n",
    "if state == 'CA':\n",
    "    tax_amount = .075\n",
    "    total_cost = purchase_amount*(1+tax_amount)\n",
    "    result = \"Since you're from {}, your total cost is {}.\".format(state, total_cost)\n",
    "\n",
    "elif state == 'MN':\n",
    "    tax_amount = .095\n",
    "    total_cost = purchase_amount*(1+tax_amount)\n",
    "    result = \"Since you're from {}, your total cost is {}.\".format(state, total_cost)\n",
    "\n",
    "elif state == 'NY':\n",
    "    tax_amount = .089\n",
    "    total_cost = purchase_amount*(1+tax_amount)\n",
    "    result = \"Since you're from {}, your total cost is {}.\".format(state, total_cost)\n",
    "\n",
    "print(result)"
   ]
  },
  {
   "cell_type": "markdown",
   "metadata": {},
   "source": [
    "## Complex Boolean Expressions\n",
    "\n",
    "If statements sometimes use more complicated boolean expressions for their conditions. They may contain multiple comparisons operators, logical operators, and even calculations. Examples:\n",
    "\n",
    "```python\n",
    "if 18.5 <= weight / height**2 < 25:\n",
    "    print(\"BMI is considered 'normal'\")\n",
    "\n",
    "if is_raining and is_sunny:\n",
    "    print(\"Is there a rainbow?\")\n",
    "\n",
    "if (not unsubscribed) and (location == \"USA\" or location == \"CAN\"):\n",
    "    print(\"send email\")\n",
    "```\n",
    "\n",
    "For really complicated conditions you might need to combine some ands, ors and nots together. Use parentheses if you need to make the combinations clear.\n",
    "\n",
    "However simple or complex, the condition in an if statement must be a boolean expression that evaluates to either True or False and it is this value that decides whether the indented block in an if statement executes or not.\n",
    "\n",
    "## Truth Value Testing\n",
    "If we use a non-boolean object as a condition in an if statement in place of the boolean expression, Python will check for its truth value and use that to decide whether or not to run the indented code. By default, the truth value of an object in Python is considered True unless specified as False in the documentation.\n",
    "\n",
    "Here are most of the built-in objects that are considered False in Python:\n",
    "\n",
    "constants defined to be false: None and False\n",
    "zero of any numeric type: 0, 0.0, 0j, Decimal(0), Fraction(0, 1)\n",
    "empty sequences and collections: '\"\", (), [], {}, set(), range(0)\n",
    "\n",
    "Example:\n",
    "\n",
    "```python\n",
    "errors = 3\n",
    "if errors:\n",
    "    print(\"You have {} errors to fix!\".format(errors))\n",
    "else:\n",
    "    print(\"No errors to fix!\")\n",
    "```\n",
    "In this code, errors has the truth value True because it's a non-zero number, so the error message is printed. This is a nice, succinct way of writing an if statement.\n"
   ]
  },
  {
   "cell_type": "code",
   "execution_count": 23,
   "metadata": {},
   "outputs": [
    {
     "name": "stdout",
     "output_type": "stream",
     "text": [
      "False\n",
      "False\n",
      "True\n",
      "True\n"
     ]
    }
   ],
   "source": [
    "altitude = 10000\n",
    "speed = 250\n",
    "propulsion = \"Propeller\"\n",
    "\n",
    "print(altitude < 1000 and speed > 100)\n",
    "print((propulsion == \"Jet\" or propulsion == \"Turboprop\") and speed < 300 and altitude > 20000)\n",
    "print(not (speed > 400 and propulsion == \"Propeller\"))\n",
    "print((altitude > 500 and speed > 100) or not propulsion == \"Propeller\")"
   ]
  },
  {
   "cell_type": "code",
   "execution_count": 27,
   "metadata": {},
   "outputs": [
    {
     "name": "stdout",
     "output_type": "stream",
     "text": [
      "Congratulations! You won a wafer-thin mint!\n"
     ]
    }
   ],
   "source": [
    "#points = 40  # use this input to make your submission\n",
    "#points = 60  # use this input to make your submission\n",
    "points = 174  # use this input to make your submission\n",
    "#points = 190  # use this input to make your submission\n",
    "\n",
    "# establish the default prize value to None\n",
    "prize = 'None'\n",
    "\n",
    "# use the points value to assign prizes to the correct prize names\n",
    "if points <= 50:\n",
    "    prize = \"wooden rabbit\"\n",
    "elif 151 <= points <= 180:\n",
    "    prize = \"wafer-thin mint\"\n",
    "elif points >= 181:\n",
    "    prize = \"penguin\"\n",
    "\n",
    "# use the truth value of prize to assign result to the correct prize\n",
    "if prize:\n",
    "    result = \"Congratulations! You won a {}!\".format(prize)\n",
    "else:\n",
    "    result = \"Oh dear, no prize this time.\"\n",
    "\n",
    "print(result)"
   ]
  },
  {
   "cell_type": "code",
   "execution_count": 28,
   "metadata": {},
   "outputs": [
    {
     "name": "stdout",
     "output_type": "stream",
     "text": [
      "Congratulations! You won a wafer-thin mint!\n"
     ]
    }
   ],
   "source": [
    "#points = 40  # use this input to make your submission\n",
    "#points = 60  # use this input to make your submission\n",
    "points = 174  # use this input to make your submission\n",
    "#points = 190  # use this input to make your submission\n",
    "\n",
    "# write your if statement here\n",
    "if points in range(1,50) :\n",
    "    result = 'no prize this time'\n",
    "elif points in range(51,150) :\n",
    "    result = 'wooden rabbit'\n",
    "elif points in range(151,180) :\n",
    "    result = 'wafer-thin mint'\n",
    "elif points in range(181,200) :\n",
    "    result = 'penguin'\n",
    "\n",
    "print(\"Congratulations! You won a {}!\".format(result))"
   ]
  },
  {
   "cell_type": "code",
   "execution_count": 29,
   "metadata": {},
   "outputs": [
    {
     "data": {
      "text/plain": [
       "['the', 'quick', 'brown', 'fox', 'jumped', 'over', 'the', 'lazy', 'dog']"
      ]
     },
     "execution_count": 29,
     "metadata": {},
     "output_type": "execute_result"
    }
   ],
   "source": [
    "# Loops\n",
    "sentence = [\"the\", \"quick\", \"brown\", \"fox\", \"jumped\", \"over\", \"the\", \"lazy\", \"dog\"]\n",
    "sentence"
   ]
  },
  {
   "cell_type": "code",
   "execution_count": 38,
   "metadata": {},
   "outputs": [
    {
     "name": "stdout",
     "output_type": "stream",
     "text": [
      "the\n",
      "quick\n",
      "brown\n",
      "fox\n",
      "jumped\n",
      "over\n",
      "the\n",
      "lazy\n",
      "dog\n"
     ]
    }
   ],
   "source": [
    "sentence = [\"the\", \"quick\", \"brown\", \"fox\", \"jumped\", \"over\", \"the\", \"lazy\", \"dog\"]\n",
    "\n",
    "# Write a for loop to print out each word in the sentence list, one word per line\n",
    "for word in sentence:\n",
    "    print(word)\n"
   ]
  },
  {
   "cell_type": "code",
   "execution_count": 43,
   "metadata": {},
   "outputs": [
    {
     "name": "stdout",
     "output_type": "stream",
     "text": [
      "5\n",
      "10\n",
      "15\n",
      "20\n",
      "25\n",
      "30\n"
     ]
    }
   ],
   "source": [
    "# Multiples of 5\n",
    "# Write a for loop below that will print out every whole number that is a multiple of 5 \n",
    "# and less than or equal to 30. https://docs.python.org/3/library/functions.html#func-range\n",
    "\n",
    "for num in range(5,31,5):\n",
    "    print(num)\n",
    "\n"
   ]
  },
  {
   "cell_type": "markdown",
   "metadata": {},
   "source": [
    "## Create Usernames\n",
    "Write a for loop that iterates over the names list to create a usernames list. To create a username for each name, make everything lowercase and replace spaces with underscores. Running your for loop over the list:\n",
    "```python\n",
    "names = [\"Joey Tribbiani\", \"Monica Geller\", \"Chandler Bing\", \"Phoebe Buffay\"]\n",
    "```\n",
    "should create the list:\n",
    "```python\n",
    "usernames = [\"joey_tribbiani\", \"monica_geller\", \"chandler_bing\", \"phoebe_buffay\"]\n",
    "```"
   ]
  },
  {
   "cell_type": "code",
   "execution_count": 69,
   "metadata": {},
   "outputs": [
    {
     "name": "stdout",
     "output_type": "stream",
     "text": [
      "['joey_tribbiani', 'monica_geller', 'chandler_bing', 'phoebe_buffay']\n"
     ]
    }
   ],
   "source": [
    "names = [\"Joey Tribbiani\", \"Monica Geller\", \"Chandler Bing\", \"Phoebe Buffay\"]\n",
    "usernames = []\n",
    "\n",
    "# write your for loop here\n",
    "for name in names:\n",
    "    usernames.append(name.lower().replace(\" \", \"_\"))\n",
    "print(usernames)"
   ]
  },
  {
   "cell_type": "code",
   "execution_count": 71,
   "metadata": {},
   "outputs": [
    {
     "name": "stdout",
     "output_type": "stream",
     "text": [
      "['joey_tribbiani', 'monica_geller', 'chandler_bing', 'phoebe_buffay']\n"
     ]
    }
   ],
   "source": [
    "# Modify Usernames with Range\n",
    "usernames = [\"Joey Tribbiani\", \"Monica Geller\", \"Chandler Bing\", \"Phoebe Buffay\"]\n",
    "\n",
    "for i in range(len(usernames)):\n",
    "    usernames[i] = usernames[i].lower().replace(\" \", \"_\")\n",
    "\n",
    "print(usernames)"
   ]
  },
  {
   "cell_type": "code",
   "execution_count": 72,
   "metadata": {},
   "outputs": [
    {
     "name": "stdout",
     "output_type": "stream",
     "text": [
      "2\n"
     ]
    }
   ],
   "source": [
    "# Tag Counter\n",
    "tokens = ['<greeting>', 'Hello World!', '</greeting>']\n",
    "\n",
    "count = 0\n",
    "for token in tokens:\n",
    "    if token[0] == '<' and token[-1] == '>':\n",
    "        count += 1\n",
    "\n",
    "print(count)"
   ]
  },
  {
   "cell_type": "code",
   "execution_count": 73,
   "metadata": {},
   "outputs": [
    {
     "name": "stdout",
     "output_type": "stream",
     "text": [
      "<ul>\n",
      "<li>first string</li>\n",
      "<li>second string</li>\n",
      "</ul>\n"
     ]
    }
   ],
   "source": [
    "#Create an HTML List\n",
    "items = ['first string', 'second string']\n",
    "html_str = \"<ul>\\n\"          # The \"\\n\" here is the end-of-line char, causing\n",
    "                             # chars after this in html_str to be on next line\n",
    "\n",
    "for item in items:\n",
    "    html_str += \"<li>{}</li>\\n\".format(item)\n",
    "html_str += \"</ul>\"\n",
    "\n",
    "print(html_str)"
   ]
  },
  {
   "cell_type": "code",
   "execution_count": 74,
   "metadata": {},
   "outputs": [
    {
     "name": "stdout",
     "output_type": "stream",
     "text": [
      "['Joey Tribbiani', 'Monica Geller', 'Chandler Bing', 'Phoebe Buffay']\n"
     ]
    }
   ],
   "source": [
    "names = [\"Joey Tribbiani\", \"Monica Geller\", \"Chandler Bing\", \"Phoebe Buffay\"]\n",
    "\n",
    "for name in names:\n",
    "    name = name.lower().replace(\" \", \"_\")\n",
    "\n",
    "print(names)"
   ]
  },
  {
   "cell_type": "code",
   "execution_count": 75,
   "metadata": {},
   "outputs": [
    {
     "name": "stdout",
     "output_type": "stream",
     "text": [
      "[0, 1, 2, 3]\n"
     ]
    }
   ],
   "source": [
    "print(list(range(4)))"
   ]
  },
  {
   "cell_type": "code",
   "execution_count": 76,
   "metadata": {},
   "outputs": [
    {
     "name": "stdout",
     "output_type": "stream",
     "text": [
      "[4, 5, 6, 7]\n"
     ]
    }
   ],
   "source": [
    "print(list(range(4,8)))"
   ]
  },
  {
   "cell_type": "code",
   "execution_count": 77,
   "metadata": {},
   "outputs": [
    {
     "name": "stdout",
     "output_type": "stream",
     "text": [
      "[4, 6, 8]\n"
     ]
    }
   ],
   "source": [
    "print(list(range(4,10,2)))"
   ]
  },
  {
   "cell_type": "code",
   "execution_count": 78,
   "metadata": {},
   "outputs": [
    {
     "name": "stdout",
     "output_type": "stream",
     "text": [
      "[]\n"
     ]
    }
   ],
   "source": [
    "print(list(range(0,-5)))"
   ]
  },
  {
   "cell_type": "code",
   "execution_count": 79,
   "metadata": {},
   "outputs": [
    {
     "name": "stdout",
     "output_type": "stream",
     "text": [
      "['red', 'blue', 'green', 'purple']\n"
     ]
    }
   ],
   "source": [
    "colors = ['Red', 'Blue', 'Green', 'Purple']\n",
    "lower_colors = [ ]\n",
    "\n",
    "for color in colors:\n",
    "    lower_colors.append(color.lower())\n",
    "\n",
    "print(lower_colors)"
   ]
  },
  {
   "cell_type": "code",
   "execution_count": 80,
   "metadata": {},
   "outputs": [
    {
     "name": "stdout",
     "output_type": "stream",
     "text": [
      "{'great': 2, 'expectations': 1, 'the': 2, 'adventures': 2, 'of': 2, 'sherlock': 1, 'holmes': 1, 'gasby': 1, 'hamlet': 1, 'huckleberry': 1, 'fin': 1}\n"
     ]
    }
   ],
   "source": [
    "# create a book title list\n",
    "book_title =  ['great', 'expectations','the', 'adventures', 'of', 'sherlock','holmes','the','great','gasby','hamlet','adventures','of','huckleberry','fin']\n",
    "\n",
    "# create a word counter dictionary\n",
    "word_counter = {}\n",
    "\n",
    "# create a for loop to add a word to the dictionary \n",
    "for word in book_title:\n",
    "    if word not in word_counter:\n",
    "        word_counter[word] = 1\n",
    "    else:\n",
    "        word_counter[word] += 1\n",
    "\n",
    "# print out dictionary\n",
    "print(word_counter)"
   ]
  },
  {
   "cell_type": "code",
   "execution_count": 82,
   "metadata": {},
   "outputs": [
    {
     "name": "stdout",
     "output_type": "stream",
     "text": [
      "{'great': 2, 'expectations': 1, 'the': 2, 'adventures': 2, 'of': 2, 'sherlock': 1, 'holmes': 1, 'gasby': 1, 'hamlet': 1, 'huckleberry': 1, 'fin': 1}\n"
     ]
    }
   ],
   "source": [
    "# Create a book title list\n",
    "book_title =  ['great', 'expectations','the', 'adventures', 'of', 'sherlock','holmes','the','great','gasby','hamlet','adventures','of','huckleberry','fin']\n",
    "\n",
    "# Create an empty dictionary\n",
    "word_counter = {}\n",
    "\n",
    "# Create a for loop using the get method\n",
    "for word in book_title:\n",
    "    word_counter[word] = word_counter.get(word, 0) + 1\n",
    "    \n",
    "# Print work_counter\n",
    "print(word_counter)"
   ]
  },
  {
   "cell_type": "code",
   "execution_count": 83,
   "metadata": {},
   "outputs": [
    {
     "name": "stdout",
     "output_type": "stream",
     "text": [
      "Jerry Seinfeld\n",
      "Julia Louis-Dreyfus\n",
      "Jason Alexander\n",
      "Michael Richards\n"
     ]
    }
   ],
   "source": [
    "cast = {\n",
    "           \"Jerry Seinfeld\": \"Jerry Seinfeld\",\n",
    "           \"Julia Louis-Dreyfus\": \"Elaine Benes\",\n",
    "           \"Jason Alexander\": \"George Costanza\",\n",
    "           \"Michael Richards\": \"Cosmo Kramer\"\n",
    "       }\n",
    "\n",
    "#Iterating through it in the usual way with a for loop would give you just the keys\n",
    "for key in cast:\n",
    "    print(key)"
   ]
  },
  {
   "cell_type": "code",
   "execution_count": 84,
   "metadata": {},
   "outputs": [
    {
     "name": "stdout",
     "output_type": "stream",
     "text": [
      "Actor: Jerry Seinfeld    Role: Jerry Seinfeld\n",
      "Actor: Julia Louis-Dreyfus    Role: Elaine Benes\n",
      "Actor: Jason Alexander    Role: George Costanza\n",
      "Actor: Michael Richards    Role: Cosmo Kramer\n"
     ]
    }
   ],
   "source": [
    "# If you wish to iterate through both keys and values\n",
    "for key, value in cast.items():\n",
    "    print(\"Actor: {}    Role: {}\".format(key, value))"
   ]
  },
  {
   "cell_type": "code",
   "execution_count": 85,
   "metadata": {},
   "outputs": [
    {
     "name": "stdout",
     "output_type": "stream",
     "text": [
      "Iterating through keys:\n",
      "Jerry Seinfeld\n",
      "Julia Louis-Dreyfus\n",
      "Jason Alexander\n",
      "Michael Richards\n",
      "\n",
      "Iterating through keys and values:\n",
      "Actor: Jerry Seinfeld    Role: Jerry Seinfeld\n",
      "Actor: Julia Louis-Dreyfus    Role: Elaine Benes\n",
      "Actor: Jason Alexander    Role: George Costanza\n",
      "Actor: Michael Richards    Role: Cosmo Kramer\n"
     ]
    }
   ],
   "source": [
    "cast = {\n",
    "           \"Jerry Seinfeld\": \"Jerry Seinfeld\",\n",
    "           \"Julia Louis-Dreyfus\": \"Elaine Benes\",\n",
    "           \"Jason Alexander\": \"George Costanza\",\n",
    "           \"Michael Richards\": \"Cosmo Kramer\"\n",
    "       }\n",
    "\n",
    "print(\"Iterating through keys:\")\n",
    "for key in cast:\n",
    "    print(key)\n",
    "\n",
    "print(\"\\nIterating through keys and values:\")\n",
    "for key, value in cast.items():\n",
    "    print(\"Actor: {}    Role: {}\".format(key, value))"
   ]
  },
  {
   "cell_type": "code",
   "execution_count": 88,
   "metadata": {},
   "outputs": [
    {
     "name": "stdout",
     "output_type": "stream",
     "text": [
      "There are 23 fruits in the basket.\n"
     ]
    }
   ],
   "source": [
    "# You would like to count the number of fruits in your basket. \n",
    "# In order to do this, you have the following dictionary and list of\n",
    "# fruits.  Use the dictionary and list to count the total number\n",
    "# of fruits, but you do not want to count the other items in your basket.\n",
    "\n",
    "result = 0\n",
    "basket_items = {'apples': 4, 'oranges': 19, 'kites': 3, 'sandwiches': 8}\n",
    "fruits = ['apples', 'oranges', 'pears', 'peaches', 'grapes', 'bananas']\n",
    "\n",
    "for object, count in basket_items.items():\n",
    "   if object in fruits:\n",
    "       result += count\n",
    "\n",
    "print(\"There are {} fruits in the basket.\".format(result))"
   ]
  },
  {
   "cell_type": "code",
   "execution_count": 90,
   "metadata": {},
   "outputs": [
    {
     "name": "stdout",
     "output_type": "stream",
     "text": [
      "There are 28 fruits in the basket.\n",
      "There are 9 fruits in the basket.\n",
      "There are 4 fruits in the basket.\n"
     ]
    }
   ],
   "source": [
    "#Example 1\n",
    "\n",
    "result = 0\n",
    "basket_items = {'pears': 5, 'grapes': 19, 'kites': 3, 'sandwiches': 8, 'bananas': 4}\n",
    "fruits = ['apples', 'oranges', 'pears', 'peaches', 'grapes', 'bananas']\n",
    "\n",
    "for object, count in basket_items.items():\n",
    "   if object in fruits:\n",
    "       result += count\n",
    "\n",
    "print(\"There are {} fruits in the basket.\".format(result))\n",
    "\n",
    "#Example 2\n",
    "\n",
    "result = 0\n",
    "basket_items = {'peaches': 5, 'lettuce': 2, 'kites': 3, 'sandwiches': 8, 'pears': 4}\n",
    "fruits = ['apples', 'oranges', 'pears', 'peaches', 'grapes', 'bananas']\n",
    "\n",
    "for object, count in basket_items.items():\n",
    "   if object in fruits:\n",
    "       result += count\n",
    "\n",
    "print(\"There are {} fruits in the basket.\".format(result))\n",
    "\n",
    "#Example 3\n",
    "\n",
    "result = 0\n",
    "basket_items = {'lettuce': 2, 'kites': 3, 'sandwiches': 8, 'pears': 4, 'bears': 10}\n",
    "fruits = ['apples', 'oranges', 'pears', 'peaches', 'grapes', 'bananas']\n",
    "\n",
    "for object, count in basket_items.items():\n",
    "   if object in fruits:\n",
    "       result += count\n",
    "\n",
    "print(\"There are {} fruits in the basket.\".format(result))"
   ]
  },
  {
   "cell_type": "code",
   "execution_count": 91,
   "metadata": {},
   "outputs": [
    {
     "name": "stdout",
     "output_type": "stream",
     "text": [
      "The number of fruits is 23.  There are 11 objects that are not fruits.\n"
     ]
    }
   ],
   "source": [
    "# You would like to count the number of fruits in your basket. \n",
    "# In order to do this, you have the following dictionary and list of\n",
    "# fruits.  Use the dictionary and list to count the total number\n",
    "# of fruits and not_fruits.\n",
    "\n",
    "fruit_count, not_fruit_count = 0, 0\n",
    "basket_items = {'apples': 4, 'oranges': 19, 'kites': 3, 'sandwiches': 8}\n",
    "fruits = ['apples', 'oranges', 'pears', 'peaches', 'grapes', 'bananas']\n",
    "\n",
    "#Iterate through the dictionary\n",
    "for object, count in basket_items.items():\n",
    "    if object in fruits:#if the key is in the list of fruits, add to fruit_count.\n",
    "       fruit_count += count\n",
    "    else:#if the key is not in the list, then add to the not_fruit_count\n",
    "        not_fruit_count += count\n",
    "\n",
    "print(\"The number of fruits is {}.  There are {} objects that are not fruits.\".format(fruit_count, not_fruit_count))"
   ]
  },
  {
   "cell_type": "markdown",
   "metadata": {},
   "source": [
    "## While Loops"
   ]
  },
  {
   "cell_type": "code",
   "execution_count": 94,
   "metadata": {},
   "outputs": [
    {
     "name": "stdout",
     "output_type": "stream",
     "text": [
      "[10, 8]\n"
     ]
    }
   ],
   "source": [
    "# sum returns sum of all elements in a list\n",
    "# pop is the inverse of the append method it removes the last element in the list and returns it\n",
    "\n",
    "card_deck = [4, 11, 8, 5, 13, 2, 8, 10]\n",
    "hand = []\n",
    "\n",
    "while sum(hand) <= 17 :\n",
    "    hand.append(card_deck.pop())\n",
    "    \n",
    "print(hand)\n"
   ]
  },
  {
   "cell_type": "code",
   "execution_count": null,
   "metadata": {},
   "outputs": [],
   "source": []
  },
  {
   "cell_type": "code",
   "execution_count": null,
   "metadata": {},
   "outputs": [],
   "source": []
  }
 ],
 "metadata": {
  "kernelspec": {
   "display_name": "Python 3",
   "language": "python",
   "name": "python3"
  },
  "language_info": {
   "codemirror_mode": {
    "name": "ipython",
    "version": 3
   },
   "file_extension": ".py",
   "mimetype": "text/x-python",
   "name": "python",
   "nbconvert_exporter": "python",
   "pygments_lexer": "ipython3",
   "version": "3.7.4"
  }
 },
 "nbformat": 4,
 "nbformat_minor": 4
}
