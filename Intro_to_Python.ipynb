{
 "cells": [
  {
   "cell_type": "markdown",
   "metadata": {},
   "source": [
    "# The Python Tutorial\n",
    "\n",
    "Python is an easy to learn, powerful programming language. It has efficient high-level data structures and a simple but effective approach to object-oriented programming. Python’s elegant syntax and dynamic typing, together with its interpreted nature, make it an ideal language for scripting and rapid application development in many areas on most platforms.\n",
    "\n",
    "The Python interpreter and the extensive standard library are freely available in source or binary form for all major platforms from the Python Web site, https://www.python.org/, and may be freely distributed. The same site also contains distributions of and pointers to many free third party Python modules, programs and tools, and additional documentation.\n",
    "\n",
    "The Python interpreter is easily extended with new functions and data types implemented in C or C++ (or other languages callable from C). Python is also suitable as an extension language for customizable applications.\n",
    "\n",
    "This [tutorial](https://docs.python.org/3/tutorial/) introduces the reader informally to the basic concepts and features of the Python language and system. It helps to have a Python interpreter handy for hands-on experience, but all examples are self-contained, so the tutorial can be read off-line as well.\n",
    "\n",
    "For a description of standard objects and modules, see [The Python Standard Library](https://docs.python.org/3/library/index.html#library-index). [The Python Language Reference](https://docs.python.org/3/reference/index.html#reference-index) gives a more formal definition of the language. To write extensions in C or C++, read Extending and Embedding the Python Interpreter and Python/C API Reference Manual. There are also several books covering Python in depth.\n",
    "\n",
    "This tutorial does not attempt to be comprehensive and cover every single feature, or even every commonly used feature. Instead, it introduces many of Python’s most noteworthy features, and will give you a good idea of the language’s flavor and style. After reading it, you will be able to read and write Python modules and programs, and you will be ready to learn more about the various Python library modules described in [The Python Standard Library](https://docs.python.org/3/library/index.html#library-index)."
   ]
  },
  {
   "cell_type": "markdown",
   "metadata": {},
   "source": [
    "Let's dive right in! let's use variables with operators"
   ]
  },
  {
   "cell_type": "code",
   "execution_count": 56,
   "metadata": {},
   "outputs": [
    {
     "name": "stdout",
     "output_type": "stream",
     "text": [
      "39.666666666666664\n"
     ]
    }
   ],
   "source": [
    "# Write an expression that calculates the average/mean of 23, 32 and 64\n",
    "# Place the expression in this print statement\n",
    "\n",
    "# variables assignment operator \n",
    "sum_of_terms = (23 + 32 + 64)\n",
    "num_of_terms = 3\n",
    "\n",
    "mean = sum_of_terms/num_of_terms\n",
    "print(mean)"
   ]
  },
  {
   "cell_type": "markdown",
   "metadata": {},
   "source": [
    "## Calculate\n",
    "\n",
    "You're going to do some calculations tile a floor. \n",
    "\n",
    "Two parts of a floor need tiling:\n",
    "\n",
    "One part is 9 tiles wide by 7 tiles long, \n",
    "the other is 5 tiles wide by 7 tiles long. \n",
    "\n",
    "Tiles come in packages of 6.\n",
    "\n",
    "How many tiles are needed?\n",
    "\n",
    "You buy 17 packages of tiles containing 6 tiles each. \n",
    "\n",
    "How many tiles will be left over?"
   ]
  },
  {
   "cell_type": "code",
   "execution_count": 57,
   "metadata": {},
   "outputs": [
    {
     "name": "stdout",
     "output_type": "stream",
     "text": [
      "98 tiles needed for job\n",
      "102 tiles purchased\n",
      "4 tiles left over\n"
     ]
    }
   ],
   "source": [
    "# create tiles needed\n",
    "tiles_needed = ((9*7) + (5*7))\n",
    "print(tiles_needed, \"tiles needed for job\")\n",
    "\n",
    "# create an expression that calculates how many tiles are needed.\n",
    "tiles_purchased = (17 * 6)\n",
    "print(tiles_purchased, \"tiles purchased\")\n",
    "\n",
    "# create an expression that calculates how many tiles will be left over.\n",
    "print(tiles_purchased - tiles_needed, \"tiles left over\")"
   ]
  },
  {
   "cell_type": "markdown",
   "metadata": {},
   "source": [
    "so you see it's fairly simple to create useable programs from some basic elements of python"
   ]
  },
  {
   "cell_type": "markdown",
   "metadata": {},
   "source": [
    "# Using the Python Interpreter\n",
    "## Invoking the Python Interpreter\n",
    "\n",
    "The Python interpreter is usually installed as /usr/local/bin/python3.8 on those machines where it is available; putting /usr/local/bin in your Unix shell’s search path makes it possible to start it by typing the command:\n",
    "\n",
    "```!python3.7```\n"
   ]
  },
  {
   "cell_type": "code",
   "execution_count": 58,
   "metadata": {},
   "outputs": [
    {
     "name": "stdout",
     "output_type": "stream",
     "text": [
      "Python 3.7.4 (default, Aug 13 2019, 15:17:50) \n",
      "[Clang 4.0.1 (tags/RELEASE_401/final)] :: Anaconda, Inc. on darwin\n",
      "Type \"help\", \"copyright\", \"credits\" or \"license\" for more information.\n",
      ">>> \n",
      "KeyboardInterrupt\n",
      ">>> \n",
      ">>> "
     ]
    }
   ],
   "source": [
    "#!python3.7"
   ]
  },
  {
   "cell_type": "markdown",
   "metadata": {},
   "source": [
    "Using this Jupyter Notebook, you are actually utlizing interactive python try running ```!python --version``` Try using interactive python in your shell/terminal. For more on [interactive mode](https://docs.python.org/3/tutorial/appendix.html#tut-interac)."
   ]
  },
  {
   "cell_type": "code",
   "execution_count": 59,
   "metadata": {},
   "outputs": [
    {
     "name": "stdout",
     "output_type": "stream",
     "text": [
      "Python 3.7.4\r\n"
     ]
    }
   ],
   "source": [
    "#!python --version"
   ]
  },
  {
   "cell_type": "code",
   "execution_count": 60,
   "metadata": {},
   "outputs": [
    {
     "name": "stdout",
     "output_type": "stream",
     "text": [
      "1 2 3\n"
     ]
    }
   ],
   "source": [
    "# lets chat again about variable assignments, here's another way to assign multiple variables\n",
    "x, y, z = 1, 2, 3\n",
    "print (x, y, z)"
   ]
  },
  {
   "cell_type": "code",
   "execution_count": 61,
   "metadata": {},
   "outputs": [
    {
     "data": {
      "text/plain": [
       "12.5625"
      ]
     },
     "execution_count": 61,
     "metadata": {},
     "output_type": "execute_result"
    }
   ],
   "source": [
    "tax = 12.5 / 100\n",
    "price = 100.50\n",
    "price * tax"
   ]
  },
  {
   "cell_type": "code",
   "execution_count": 62,
   "metadata": {},
   "outputs": [
    {
     "data": {
      "text/plain": [
       "113.0625"
      ]
     },
     "execution_count": 62,
     "metadata": {},
     "output_type": "execute_result"
    }
   ],
   "source": [
    "# see what we did there '_' took the last output and we added it to price, but if you rerun this cell again it will continue to add\n",
    "price + _"
   ]
  },
  {
   "cell_type": "code",
   "execution_count": 63,
   "metadata": {},
   "outputs": [
    {
     "data": {
      "text/plain": [
       "113.06"
      ]
     },
     "execution_count": 63,
     "metadata": {},
     "output_type": "execute_result"
    }
   ],
   "source": [
    "round(_, 2)"
   ]
  },
  {
   "cell_type": "code",
   "execution_count": 64,
   "metadata": {},
   "outputs": [
    {
     "name": "stdout",
     "output_type": "stream",
     "text": [
      "12.5625\n"
     ]
    }
   ],
   "source": [
    "# So it's best to utilize variables where your results can be stored later retrieved and used again\n",
    "tax = 12.5 / 100\n",
    "price = 100.50\n",
    "result = price * tax\n",
    "print(result)"
   ]
  },
  {
   "cell_type": "code",
   "execution_count": 65,
   "metadata": {},
   "outputs": [
    {
     "name": "stdout",
     "output_type": "stream",
     "text": [
      "113.0625\n"
     ]
    }
   ],
   "source": [
    "total = price + result\n",
    "print(total)"
   ]
  },
  {
   "cell_type": "code",
   "execution_count": 66,
   "metadata": {},
   "outputs": [
    {
     "data": {
      "text/plain": [
       "113.06"
      ]
     },
     "execution_count": 66,
     "metadata": {},
     "output_type": "execute_result"
    }
   ],
   "source": [
    "round(total,2)"
   ]
  },
  {
   "cell_type": "markdown",
   "metadata": {},
   "source": [
    "# Keywords\n",
    "\n",
    "[Keywords or Reserve words](https://pentangle.net/python/handbook/node52.html) that can't be used as variables.\n",
    "\n",
    "You may not name your variables any of the following words as they mean special things in Python:\n",
    "\n",
    "```list_of_reserve_words=['and','assert','break','class','continue','def','del','elif','else','except','exec','finally','for','from','global','if','import','in','is','lambda','not','or','pass','print','raise','return','try','while','Data','Float','Int','Numeric','Oxphys','array','close','float','int','input','open','range','type','write','zeros','acos','asin','atan','cos','e','exp','fabs','floor','log','log10','pi','sin','sqrt','tan']```\t"
   ]
  },
  {
   "cell_type": "code",
   "execution_count": 67,
   "metadata": {},
   "outputs": [],
   "source": [
    "list_of_reserve_words=['and','assert','break','class','continue','def','del','elif','else','except','exec','finally','for','from','global','if','import','in','is','lambda','not','or','pass','print','raise','return','try','while','Data','Float','Int','Numeric','Oxphys','array','close','float','int','input','open','range','type','write','zeros','acos','asin','atan','cos','e','exp','fabs','floor','log','log10','pi','sin','sqrt','tan']"
   ]
  },
  {
   "cell_type": "code",
   "execution_count": 68,
   "metadata": {},
   "outputs": [
    {
     "name": "stdout",
     "output_type": "stream",
     "text": [
      "['and', 'assert', 'break', 'class', 'continue', 'def', 'del', 'elif', 'else', 'except', 'exec', 'finally', 'for', 'from', 'global', 'if', 'import', 'in', 'is', 'lambda', 'not', 'or', 'pass', 'print', 'raise', 'return', 'try', 'while', 'Data', 'Float', 'Int', 'Numeric', 'Oxphys', 'array', 'close', 'float', 'int', 'input', 'open', 'range', 'type', 'write', 'zeros', 'acos', 'asin', 'atan', 'cos', 'e', 'exp', 'fabs', 'floor', 'log', 'log10', 'pi', 'sin', 'sqrt', 'tan']\n"
     ]
    }
   ],
   "source": [
    "print(list_of_reserve_words)"
   ]
  },
  {
   "cell_type": "code",
   "execution_count": 85,
   "metadata": {},
   "outputs": [],
   "source": [
    "#list_of_reserve_words"
   ]
  },
  {
   "cell_type": "code",
   "execution_count": 84,
   "metadata": {},
   "outputs": [
    {
     "data": {
      "text/html": [
       "<div>\n",
       "<style scoped>\n",
       "    .dataframe tbody tr th:only-of-type {\n",
       "        vertical-align: middle;\n",
       "    }\n",
       "\n",
       "    .dataframe tbody tr th {\n",
       "        vertical-align: top;\n",
       "    }\n",
       "\n",
       "    .dataframe thead th {\n",
       "        text-align: right;\n",
       "    }\n",
       "</style>\n",
       "<table border=\"1\" class=\"dataframe\">\n",
       "  <thead>\n",
       "    <tr style=\"text-align: right;\">\n",
       "      <th></th>\n",
       "      <th>0</th>\n",
       "    </tr>\n",
       "  </thead>\n",
       "  <tbody>\n",
       "    <tr>\n",
       "      <th>0</th>\n",
       "      <td>and</td>\n",
       "    </tr>\n",
       "    <tr>\n",
       "      <th>1</th>\n",
       "      <td>assert</td>\n",
       "    </tr>\n",
       "    <tr>\n",
       "      <th>2</th>\n",
       "      <td>break</td>\n",
       "    </tr>\n",
       "    <tr>\n",
       "      <th>3</th>\n",
       "      <td>class</td>\n",
       "    </tr>\n",
       "    <tr>\n",
       "      <th>4</th>\n",
       "      <td>continue</td>\n",
       "    </tr>\n",
       "    <tr>\n",
       "      <th>5</th>\n",
       "      <td>def</td>\n",
       "    </tr>\n",
       "    <tr>\n",
       "      <th>6</th>\n",
       "      <td>del</td>\n",
       "    </tr>\n",
       "    <tr>\n",
       "      <th>7</th>\n",
       "      <td>elif</td>\n",
       "    </tr>\n",
       "    <tr>\n",
       "      <th>8</th>\n",
       "      <td>else</td>\n",
       "    </tr>\n",
       "    <tr>\n",
       "      <th>9</th>\n",
       "      <td>except</td>\n",
       "    </tr>\n",
       "    <tr>\n",
       "      <th>10</th>\n",
       "      <td>exec</td>\n",
       "    </tr>\n",
       "    <tr>\n",
       "      <th>11</th>\n",
       "      <td>finally</td>\n",
       "    </tr>\n",
       "    <tr>\n",
       "      <th>12</th>\n",
       "      <td>for</td>\n",
       "    </tr>\n",
       "    <tr>\n",
       "      <th>13</th>\n",
       "      <td>from</td>\n",
       "    </tr>\n",
       "    <tr>\n",
       "      <th>14</th>\n",
       "      <td>global</td>\n",
       "    </tr>\n",
       "    <tr>\n",
       "      <th>15</th>\n",
       "      <td>if</td>\n",
       "    </tr>\n",
       "    <tr>\n",
       "      <th>16</th>\n",
       "      <td>import</td>\n",
       "    </tr>\n",
       "    <tr>\n",
       "      <th>17</th>\n",
       "      <td>in</td>\n",
       "    </tr>\n",
       "    <tr>\n",
       "      <th>18</th>\n",
       "      <td>is</td>\n",
       "    </tr>\n",
       "    <tr>\n",
       "      <th>19</th>\n",
       "      <td>lambda</td>\n",
       "    </tr>\n",
       "    <tr>\n",
       "      <th>20</th>\n",
       "      <td>not</td>\n",
       "    </tr>\n",
       "    <tr>\n",
       "      <th>21</th>\n",
       "      <td>or</td>\n",
       "    </tr>\n",
       "    <tr>\n",
       "      <th>22</th>\n",
       "      <td>pass</td>\n",
       "    </tr>\n",
       "    <tr>\n",
       "      <th>23</th>\n",
       "      <td>print</td>\n",
       "    </tr>\n",
       "    <tr>\n",
       "      <th>24</th>\n",
       "      <td>raise</td>\n",
       "    </tr>\n",
       "    <tr>\n",
       "      <th>25</th>\n",
       "      <td>return</td>\n",
       "    </tr>\n",
       "    <tr>\n",
       "      <th>26</th>\n",
       "      <td>try</td>\n",
       "    </tr>\n",
       "    <tr>\n",
       "      <th>27</th>\n",
       "      <td>while</td>\n",
       "    </tr>\n",
       "    <tr>\n",
       "      <th>28</th>\n",
       "      <td>Data</td>\n",
       "    </tr>\n",
       "    <tr>\n",
       "      <th>29</th>\n",
       "      <td>Float</td>\n",
       "    </tr>\n",
       "    <tr>\n",
       "      <th>30</th>\n",
       "      <td>Int</td>\n",
       "    </tr>\n",
       "    <tr>\n",
       "      <th>31</th>\n",
       "      <td>Numeric</td>\n",
       "    </tr>\n",
       "    <tr>\n",
       "      <th>32</th>\n",
       "      <td>Oxphys</td>\n",
       "    </tr>\n",
       "    <tr>\n",
       "      <th>33</th>\n",
       "      <td>array</td>\n",
       "    </tr>\n",
       "    <tr>\n",
       "      <th>34</th>\n",
       "      <td>close</td>\n",
       "    </tr>\n",
       "    <tr>\n",
       "      <th>35</th>\n",
       "      <td>float</td>\n",
       "    </tr>\n",
       "    <tr>\n",
       "      <th>36</th>\n",
       "      <td>int</td>\n",
       "    </tr>\n",
       "    <tr>\n",
       "      <th>37</th>\n",
       "      <td>input</td>\n",
       "    </tr>\n",
       "    <tr>\n",
       "      <th>38</th>\n",
       "      <td>open</td>\n",
       "    </tr>\n",
       "    <tr>\n",
       "      <th>39</th>\n",
       "      <td>range</td>\n",
       "    </tr>\n",
       "    <tr>\n",
       "      <th>40</th>\n",
       "      <td>type</td>\n",
       "    </tr>\n",
       "    <tr>\n",
       "      <th>41</th>\n",
       "      <td>write</td>\n",
       "    </tr>\n",
       "    <tr>\n",
       "      <th>42</th>\n",
       "      <td>zeros</td>\n",
       "    </tr>\n",
       "    <tr>\n",
       "      <th>43</th>\n",
       "      <td>acos</td>\n",
       "    </tr>\n",
       "    <tr>\n",
       "      <th>44</th>\n",
       "      <td>asin</td>\n",
       "    </tr>\n",
       "    <tr>\n",
       "      <th>45</th>\n",
       "      <td>atan</td>\n",
       "    </tr>\n",
       "    <tr>\n",
       "      <th>46</th>\n",
       "      <td>cos</td>\n",
       "    </tr>\n",
       "    <tr>\n",
       "      <th>47</th>\n",
       "      <td>e</td>\n",
       "    </tr>\n",
       "    <tr>\n",
       "      <th>48</th>\n",
       "      <td>exp</td>\n",
       "    </tr>\n",
       "    <tr>\n",
       "      <th>49</th>\n",
       "      <td>fabs</td>\n",
       "    </tr>\n",
       "    <tr>\n",
       "      <th>50</th>\n",
       "      <td>floor</td>\n",
       "    </tr>\n",
       "    <tr>\n",
       "      <th>51</th>\n",
       "      <td>log</td>\n",
       "    </tr>\n",
       "    <tr>\n",
       "      <th>52</th>\n",
       "      <td>log10</td>\n",
       "    </tr>\n",
       "    <tr>\n",
       "      <th>53</th>\n",
       "      <td>pi</td>\n",
       "    </tr>\n",
       "    <tr>\n",
       "      <th>54</th>\n",
       "      <td>sin</td>\n",
       "    </tr>\n",
       "    <tr>\n",
       "      <th>55</th>\n",
       "      <td>sqrt</td>\n",
       "    </tr>\n",
       "    <tr>\n",
       "      <th>56</th>\n",
       "      <td>tan</td>\n",
       "    </tr>\n",
       "  </tbody>\n",
       "</table>\n",
       "</div>"
      ],
      "text/plain": [
       "           0\n",
       "0        and\n",
       "1     assert\n",
       "2      break\n",
       "3      class\n",
       "4   continue\n",
       "5        def\n",
       "6        del\n",
       "7       elif\n",
       "8       else\n",
       "9     except\n",
       "10      exec\n",
       "11   finally\n",
       "12       for\n",
       "13      from\n",
       "14    global\n",
       "15        if\n",
       "16    import\n",
       "17        in\n",
       "18        is\n",
       "19    lambda\n",
       "20       not\n",
       "21        or\n",
       "22      pass\n",
       "23     print\n",
       "24     raise\n",
       "25    return\n",
       "26       try\n",
       "27     while\n",
       "28      Data\n",
       "29     Float\n",
       "30       Int\n",
       "31   Numeric\n",
       "32    Oxphys\n",
       "33     array\n",
       "34     close\n",
       "35     float\n",
       "36       int\n",
       "37     input\n",
       "38      open\n",
       "39     range\n",
       "40      type\n",
       "41     write\n",
       "42     zeros\n",
       "43      acos\n",
       "44      asin\n",
       "45      atan\n",
       "46       cos\n",
       "47         e\n",
       "48       exp\n",
       "49      fabs\n",
       "50     floor\n",
       "51       log\n",
       "52     log10\n",
       "53        pi\n",
       "54       sin\n",
       "55      sqrt\n",
       "56       tan"
      ]
     },
     "execution_count": 84,
     "metadata": {},
     "output_type": "execute_result"
    }
   ],
   "source": [
    "# import pandas as pd \n",
    "import pandas as pd \n",
    "\n",
    "#Calling DataFrame constructor on list \n",
    "df = pd.DataFrame(list_of_reserve_words) \n",
    "df "
   ]
  },
  {
   "cell_type": "code",
   "execution_count": 70,
   "metadata": {},
   "outputs": [],
   "source": [
    "# The pythonic way to name variables is to use all lowercase letters and underscores to separate words.\n",
    "my_height = 58\n",
    "my_lat = 40\n",
    "my_long = 105"
   ]
  },
  {
   "cell_type": "markdown",
   "metadata": {},
   "source": [
    "# Python Operators\n",
    "\n",
    "## Arithmetic operators\n",
    "\n",
    "| Operator | Meaning | Example |  \n",
    "|:----:| :----: |--------: |\n",
    "|+|Add two operands or unary plus|x + y + 2|\n",
    "|-|Subtract right operand from the left or unary minus|x - y- 2|\n",
    "|* |Multiply two operands|x * y|\n",
    "|/ |Divide left operand by the right one (always results into float)|x / y |\n",
    "|% |Modulus - remainder of the division of left operand by the right | x % y (remainder of x/y) |\n",
    "|// |Floor division - division that results into whole number adjusted to the left in the number line| x // y |\n",
    "|** |Exponent - left operand raised to the power of right| x**y (x to the power y) |\n",
    "\n"
   ]
  },
  {
   "cell_type": "code",
   "execution_count": 71,
   "metadata": {},
   "outputs": [
    {
     "name": "stdout",
     "output_type": "stream",
     "text": [
      "x + y = 17\n",
      "x - y = 3\n",
      "x * y = 70\n",
      "x / y = 1.4285714285714286\n",
      "x // y = 1\n",
      "x ** y = 10000000\n"
     ]
    }
   ],
   "source": [
    "x = 10\n",
    "y = 7\n",
    "print('x + y =',x+y)\n",
    "print('x - y =',x-y)\n",
    "print('x * y =',x*y)\n",
    "print('x / y =',x/y)\n",
    "print('x // y =',x//y)\n",
    "print('x ** y =',x**y)"
   ]
  },
  {
   "cell_type": "markdown",
   "metadata": {},
   "source": [
    "## Comparison operators\n",
    "Comparison operators are used to compare values. It returns either ```True``` or ```False``` according to the condition.\n",
    "\n",
    "\n",
    "|Operator|Meaning|Example|\n",
    "|:----:| :----: |--------: |\n",
    "|>\t|Greater than - True if left operand is greater than the right|\tx > y|\n",
    "|<\t|Less than - True if left operand is less than the right\t|x < y|\n",
    "|==\t|Equal to - True if both operands are equal|\tx == y|\n",
    "|!=\t|Not equal to - True if operands are not equal|\tx != y|\n",
    "|>=\t|Greater than or equal to - True if left operand is greater than or equal to the right|\tx >= y|\n",
    "|<=\t|Less than or equal to - True if left operand is less than or equal to the right|\tx <= y|"
   ]
  },
  {
   "cell_type": "code",
   "execution_count": 72,
   "metadata": {},
   "outputs": [
    {
     "name": "stdout",
     "output_type": "stream",
     "text": [
      "x > y is False\n",
      "x < y is True\n",
      "x == y is False\n",
      "x != y is True\n",
      "x >= y is False\n",
      "x <= y is True\n"
     ]
    }
   ],
   "source": [
    "x = 10\n",
    "y = 12\n",
    "print('x > y is',x>y)\n",
    "print('x < y is',x<y)\n",
    "print('x == y is',x==y)\n",
    "print('x != y is',x!=y)\n",
    "print('x >= y is',x>=y)\n",
    "print('x <= y is',x<=y)"
   ]
  },
  {
   "cell_type": "markdown",
   "metadata": {},
   "source": [
    "## Logical operators\n",
    "Logical operators are the ```and```, ```or```, ```not``` operators.\n",
    "\n",
    "|Operator|Meaning|Example|\n",
    "|:----:| :----: |--------: |\n",
    "|and|True if both the operands are true|x and y|\n",
    "|or|True if either of the operands is true|\tx or y|\n",
    "|not|True if operand is false (complements the operand)|not x|"
   ]
  },
  {
   "cell_type": "code",
   "execution_count": 73,
   "metadata": {},
   "outputs": [
    {
     "name": "stdout",
     "output_type": "stream",
     "text": [
      "x and y is False\n",
      "x or y is True\n",
      "not x is False\n"
     ]
    }
   ],
   "source": [
    "x = True\n",
    "y = False\n",
    "\n",
    "print('x and y is',x and y)\n",
    "\n",
    "print('x or y is',x or y)\n",
    "\n",
    "print('not x is',not x)"
   ]
  },
  {
   "cell_type": "markdown",
   "metadata": {},
   "source": [
    "# Bitwise operators\n",
    "Bitwise operators act on operands as if they were strings of binary digits. They operate bit by bit, hence the name.\n",
    "\n",
    "|Operator|Meaning|Example|\n",
    "|:----:| :----: |--------: |\n",
    "|&\t|Bitwise AND|x & y = 0 (0000 0000)|\n",
    "|&#124;|Bitwise OR |x &#124; y = 14 (0000 1110)|\n",
    "|~\t|Bitwise NOT|~x = -11 (1111 0101)|\n",
    "|^\t|Bitwise XOR|x ^ y = 14 (0000 1110)|\n",
    "|>>\t|Bitwise right shift|x >> 2 = 2 (0000 0010)|\n",
    "|<<\t|Bitwise left shift|x << 2 = 40 (0010 1000)|"
   ]
  },
  {
   "cell_type": "markdown",
   "metadata": {},
   "source": [
    "# Assignment Operators\n",
    "Assignment operators are used in Python to assign values to variables.\n",
    "\n",
    "```a = 5``` is a simple assignment operator that assigns the value 5 on the right to the variable a on the left.\n",
    "\n",
    "|Operator|Example|Equivalent to|\n",
    "|:----:| :----: |--------: |\n",
    "|= |\tx = 5\t|x = 5|\n",
    "|+= |\tx += 5\t|x = x + 5|\n",
    "|-=\t|x -= 5\t|x = x - 5|\n",
    "|$*=$  |$x *= 5$\t|$x = x * 5$|\n",
    "|/= |\tx /= 5\t|x = x / 5|\n",
    "|%=\t |x%= 5\t|x = x % 5|\n",
    "|//=\t|x //= 5\t|x = x // 5|\n",
    "|**=\t|x **= 5\t|x = x ** 5|\n",
    "|&=\t |x &= 5\t|x = x & 5|\n",
    "| &#124; =\t|x &#124; = 5\t|x = x &#124; 5|\n",
    "|^=\t|x ^= 5\t|x = x ^ 5|\n",
    "|>>=\t|x >>= 5\t|x = x >> 5|\n",
    "|<<=\t|x <<= 5\t|x = x << 5|"
   ]
  },
  {
   "cell_type": "markdown",
   "metadata": {},
   "source": [
    "## Special operators\n",
    "Python language offers some special types of operators like the identity operator or the membership operator. They are described below with examples.\n",
    "\n",
    "## Identity operators\n",
    "is and is not are the identity operators in Python. They are used to check if two values (or variables) are located on the same part of the memory. Two variables that are equal does not imply that they are identical.\n",
    "\n",
    "|Operator|Example|Equivalent to|\n",
    "|:----:| :----: |--------: |\n",
    "|is\t|True if the operands are identical (refer to the same object)|\tx is True|\n",
    "|is not\t|True if the operands are not identical (do not refer to the same object)|\tx is not True|"
   ]
  },
  {
   "cell_type": "code",
   "execution_count": 74,
   "metadata": {},
   "outputs": [
    {
     "name": "stdout",
     "output_type": "stream",
     "text": [
      "False\n",
      "True\n",
      "False\n"
     ]
    }
   ],
   "source": [
    "x1 = 10\n",
    "y1 = 10\n",
    "x2 = 'Hola'\n",
    "y2 = 'Hola'\n",
    "x3 = [1,2,3]\n",
    "y3 = [1,2,3]\n",
    "\n",
    "print(x1 is not y1)\n",
    "print(x2 is y2)\n",
    "print(x3 is y3)"
   ]
  },
  {
   "cell_type": "markdown",
   "metadata": {},
   "source": [
    "## Membership operators\n",
    "in and not in are the membership operators in Python. They are used to test whether a value or variable is found in a sequence (string, list, tuple, set and dictionary).\n",
    "\n",
    "In a dictionary we can only test for presence of key, not the value.\n",
    "\n",
    "|Operator|Example|Equivalent to|\n",
    "|:----:| :----: |--------: |\n",
    "|in|\tTrue if value/variable is found in the sequence|\t5 in x|\n",
    "|not in|\tTrue if value/variable is not found in the sequence|\t5 not in x|"
   ]
  },
  {
   "cell_type": "code",
   "execution_count": 75,
   "metadata": {},
   "outputs": [
    {
     "name": "stdout",
     "output_type": "stream",
     "text": [
      "True\n",
      "True\n",
      "True\n",
      "False\n"
     ]
    }
   ],
   "source": [
    "x = 'Hello world'\n",
    "y = {1:'a',2:'b'}\n",
    "print('H' in x)\n",
    "print('hello' not in x)\n",
    "print(1 in y)\n",
    "print('a' in y)"
   ]
  },
  {
   "cell_type": "code",
   "execution_count": 79,
   "metadata": {},
   "outputs": [
    {
     "name": "stdout",
     "output_type": "stream",
     "text": [
      "beginning volume:  444500000.0\n",
      "amount of rainfall from a storm 5000000.0\n",
      "decrease of rainfall by 10% 4500000.0\n",
      "add rainfall to reservoir  449000000.0\n",
      "increase volume by 5%  471450000.0\n",
      "volume reduced by 5%  447877500.0\n",
      "subtract 2.5e5 cubic metres  447377500.0\n",
      "final volume  447627500.0\n"
     ]
    }
   ],
   "source": [
    "# The current volume of a water reservoir (in cubic metres)\n",
    "reservoir_volume = 4.445e8\n",
    "print(\"beginning volume: \", reservoir_volume)\n",
    "\n",
    "# The amount of rainfall from a storm (in cubic metres)\n",
    "rainfall = 5e6\n",
    "print(\"amount of rainfall from a storm\", rainfall)\n",
    "\n",
    "# decrease the rainfall variable by 10% to account for runoff\n",
    "rainfall *= 0.9\n",
    "print(\"decrease of rainfall by 10%\", rainfall)\n",
    "\n",
    "# add the rainfall variable to the reservoir_volume variable\n",
    "reservoir_volume += rainfall\n",
    "print(\"add rainfall to reservoir \",reservoir_volume)\n",
    "\n",
    "# increase reservoir_volume by 5% to account for stormwater that flows\n",
    "# into the reservoir in the days following the storm\n",
    "reservoir_volume *= 1.05\n",
    "print(\"increase volume by 5% \", reservoir_volume)\n",
    "\n",
    "# decrease reservoir_volume by 5% to account for evaporation\n",
    "reservoir_volume *= 0.95\n",
    "print(\"volume reduced by 5% \", reservoir_volume)\n",
    "\n",
    "# subtract 2.5e5 cubic metres from reservoir_volume to account for water\n",
    "# that's piped to arid regions.\n",
    "reservoir_volume -= 2.5e5\n",
    "print(\"subtract 2.5e5 cubic metres \", reservoir_volume - 2.5e5)\n",
    "\n",
    "# print the new value of the reservoir_volume variable\n",
    "print(\"final volume \",reservoir_volume) # 447627500.0\n"
   ]
  },
  {
   "cell_type": "markdown",
   "metadata": {},
   "source": [
    "## Integers and Floats\n",
    "There are two Python data types that could be used for numeric values:\n",
    "\n",
    "- **int** - for integer values\n",
    "- **float** - for decimal or floating point values\n",
    "\n",
    "You can create a value that follows the data type by using the following syntax:"
   ]
  },
  {
   "cell_type": "code",
   "execution_count": 81,
   "metadata": {},
   "outputs": [],
   "source": [
    "x = int(4.7)   # x is now an integer 4\n",
    "y = float(4)   # y is now a float of 4.0"
   ]
  },
  {
   "cell_type": "code",
   "execution_count": 82,
   "metadata": {},
   "outputs": [
    {
     "name": "stdout",
     "output_type": "stream",
     "text": [
      "<class 'int'>\n",
      "<class 'float'>\n"
     ]
    }
   ],
   "source": [
    "#you can check the type\n",
    "print(type(x))\n",
    "print(type(y))"
   ]
  },
  {
   "cell_type": "markdown",
   "metadata": {},
   "source": [
    "# Python Best Practices\n",
    "\n",
    "Use [PEP 8 -- Style Guide for Python Code](https://www.python.org/dev/peps/pep-0008/#introduction) for how you write code."
   ]
  },
  {
   "cell_type": "markdown",
   "metadata": {},
   "source": [
    "## Boolean or Comparison Operators\n",
    "\n"
   ]
  },
  {
   "cell_type": "code",
   "execution_count": 86,
   "metadata": {},
   "outputs": [
    {
     "name": "stdout",
     "output_type": "stream",
     "text": [
      "False\n"
     ]
    }
   ],
   "source": [
    "# Write code to compare these densities. \n",
    "# Is the population of San Francisco more dense than that of Rio de Janeiro? \n",
    "# Print True if it is and False if not.\n",
    "\n",
    "sf_population, sf_area = 864816, 231.89\n",
    "rio_population, rio_area = 6453682, 486.5\n",
    "\n",
    "san_francisco_pop_density = sf_population/sf_area\n",
    "rio_de_janeiro_pop_density = rio_population/rio_area\n",
    "\n",
    "# Write code that prints True if San Francisco is denser than Rio, and False otherwise\n",
    "print(san_francisco_pop_density > rio_de_janeiro_pop_density)"
   ]
  },
  {
   "cell_type": "markdown",
   "metadata": {},
   "source": [
    "## Strings\n",
    "Strings in Python are shown as the variable type str. You can define a string with either double quotes \" or single quotes '. If the string you are creating actually has one of these two values in it, then you need to be careful to assure your code doesn't give an error."
   ]
  },
  {
   "cell_type": "code",
   "execution_count": 89,
   "metadata": {},
   "outputs": [
    {
     "name": "stdout",
     "output_type": "stream",
     "text": [
      "Joe's mobile lab can park in a regular parking spot.\n"
     ]
    }
   ],
   "source": [
    "my_string = 'this is a string!'\n",
    "my_string2 = \"this is also a string!!!\"\n",
    "\n",
    "# You can also include a \\ in your string to be able to include one of these quotes:\n",
    "this_string = 'Joe\\'s mobile lab can park in a regular parking spot.'\n",
    "print(this_string)"
   ]
  },
  {
   "cell_type": "markdown",
   "metadata": {},
   "source": [
    "Unlike the other data types you have seen so far, you can also index into strings, but you will see more on this soon! For now, here is a small example. Notice Python uses 0 indexing."
   ]
  },
  {
   "cell_type": "code",
   "execution_count": 90,
   "metadata": {},
   "outputs": [
    {
     "name": "stdout",
     "output_type": "stream",
     "text": [
      "J\n"
     ]
    }
   ],
   "source": [
    "print(this_string[0])"
   ]
  },
  {
   "cell_type": "code",
   "execution_count": 92,
   "metadata": {},
   "outputs": [
    {
     "name": "stdout",
     "output_type": "stream",
     "text": [
      "Joe\n"
     ]
    }
   ],
   "source": [
    "print(this_string[0:3])"
   ]
  },
  {
   "cell_type": "markdown",
   "metadata": {},
   "source": [
    "## The len() function\n",
    "len() is a built-in Python function that returns the length of an object, like a string. The length of a string is the number of characters in the string. This will always be an integer."
   ]
  },
  {
   "cell_type": "code",
   "execution_count": 93,
   "metadata": {},
   "outputs": [
    {
     "name": "stdout",
     "output_type": "stream",
     "text": [
      "52\n"
     ]
    }
   ],
   "source": [
    "print(len(this_string))"
   ]
  },
  {
   "cell_type": "code",
   "execution_count": 94,
   "metadata": {},
   "outputs": [
    {
     "name": "stdout",
     "output_type": "stream",
     "text": [
      "Whether you think you can, or you think you can't--you're right.\n",
      "Whether you think you can, or you think you can't--you're right.\n"
     ]
    }
   ],
   "source": [
    "# TODO: Fix this string! you can utilize two different methods. Use backslashes to excape or use double quotes\n",
    "#ford_quote = 'Whether you think you can, or you think you can't--you're right.'\n",
    "\n",
    "#backslashes to escape\n",
    "ford_quote1 = 'Whether you think you can, or you think you can\\'t--you\\'re right.'\n",
    "ford_quote2 = \"Whether you think you can, or you think you can't--you're right.\"\n",
    "print(ford_quote1)\n",
    "print(ford_quote2)"
   ]
  },
  {
   "cell_type": "code",
   "execution_count": 96,
   "metadata": {},
   "outputs": [
    {
     "name": "stdout",
     "output_type": "stream",
     "text": [
      "Joe accessed the site https://coe.gsa.gov/ at 04:50.\n"
     ]
    }
   ],
   "source": [
    "username = \"Joe\"\n",
    "timestamp = \"04:50\"\n",
    "url = \"https://coe.gsa.gov/\"\n",
    "\n",
    "# TODO: print a log message using the variables above.\n",
    "# The message should have the same format as this one:\n",
    "# \"Joe accessed the site https://coe.gsa.gov/ at 16:20.\"\n",
    "\n",
    "message = username + \" accessed the site \" + url + \" at \" + timestamp + \".\"\n",
    "print(message)\n"
   ]
  },
  {
   "cell_type": "code",
   "execution_count": 102,
   "metadata": {},
   "outputs": [
    {
     "name": "stdout",
     "output_type": "stream",
     "text": [
      "20\n",
      "True\n"
     ]
    }
   ],
   "source": [
    "given_name = \"William\"\n",
    "middle_names = \"Bradley\"\n",
    "family_name = \"Pitt\"\n",
    "\n",
    "#todo: calculate how long this name is\n",
    "name_length = (len(given_name)+1+len(middle_names)+1+len(family_name))\n",
    "print(name_length)\n",
    "\n",
    "# Now we check to make sure that the name fits within the driving license character limit\n",
    "# Nothing you need to do here\n",
    "driving_license_character_limit = 28\n",
    "print(name_length <= driving_license_character_limit)"
   ]
  },
  {
   "cell_type": "markdown",
   "metadata": {},
   "source": [
    "Calculate and print the total sales for the week from the data provided. Print out a string of the form \"This week's total sales: xxx\", where xxx will be the actual total of all the numbers. You’ll need to change the type of the input data in order to calculate that total."
   ]
  },
  {
   "cell_type": "code",
   "execution_count": 106,
   "metadata": {},
   "outputs": [
    {
     "name": "stdout",
     "output_type": "stream",
     "text": [
      "This week's total sales: 529\n"
     ]
    }
   ],
   "source": [
    "mon_sales = \"121\"\n",
    "tues_sales = \"105\"\n",
    "wed_sales = \"110\"\n",
    "thurs_sales = \"98\"\n",
    "fri_sales = \"95\"\n",
    "\n",
    "#TODO: Print a string with this format: This week's total sales: xxx\n",
    "#You will probably need to write some lines of code before the print statement.\n",
    "\n",
    "total_sales = int(mon_sales) + int(tues_sales) + int(wed_sales) + int(thurs_sales) + int(fri_sales)\n",
    "print(\"This week's total sales:\", total_sales)"
   ]
  },
  {
   "cell_type": "markdown",
   "metadata": {},
   "source": [
    "## String Methods\n",
    "Methods are like some of the functions you have already seen:\n",
    "\n",
    "len(\"this\")\n",
    "type(12)\n",
    "print(\"Hello world\")\n",
    "\n",
    "These three above are functions - notice they use parentheses, and accept one or more arguments. \n",
    "\n",
    "A method in Python behaves similarly to a function. Methods actually are functions that are called using dot notation. For example, lower() is a string method that can be used like this, on a string called \"sample string\": sample_string.lower().\n",
    "\n",
    "Methods are specific to the data type for a particular variable. So there are some built-in methods that are available for all strings, different methods that are available for all integers, etc.\n",
    "\n",
    "Below is an image that shows some methods that are possible with any string."
   ]
  },
  {
   "cell_type": "code",
   "execution_count": 112,
   "metadata": {},
   "outputs": [],
   "source": [
    "my_string = \"wildertrek\"\n",
    "\n",
    "# as you type you can end with a '.' then use the tab key to see your choice of methods\n",
    "cap_string = my_string.capitalize()"
   ]
  },
  {
   "cell_type": "code",
   "execution_count": 113,
   "metadata": {},
   "outputs": [
    {
     "name": "stdout",
     "output_type": "stream",
     "text": [
      "Wildertrek\n"
     ]
    }
   ],
   "source": [
    "print(cap_string)"
   ]
  },
  {
   "cell_type": "code",
   "execution_count": 114,
   "metadata": {},
   "outputs": [
    {
     "data": {
      "text/plain": [
       "True"
      ]
     },
     "execution_count": 114,
     "metadata": {},
     "output_type": "execute_result"
    }
   ],
   "source": [
    "my_string.islower()"
   ]
  },
  {
   "cell_type": "code",
   "execution_count": 116,
   "metadata": {},
   "outputs": [
    {
     "data": {
      "text/plain": [
       "2"
      ]
     },
     "execution_count": 116,
     "metadata": {},
     "output_type": "execute_result"
    }
   ],
   "source": [
    "my_string.count('e')"
   ]
  },
  {
   "cell_type": "markdown",
   "metadata": {},
   "source": [
    "## format()\n",
    "One important string method: format()"
   ]
  },
  {
   "cell_type": "code",
   "execution_count": 118,
   "metadata": {},
   "outputs": [
    {
     "name": "stdout",
     "output_type": "stream",
     "text": [
      "Wildertrek mobile lab has 6 wheels\n"
     ]
    }
   ],
   "source": [
    "print(\"Wildertrek mobile lab has {} wheels\".format(6))"
   ]
  },
  {
   "cell_type": "code",
   "execution_count": 119,
   "metadata": {},
   "outputs": [
    {
     "name": "stdout",
     "output_type": "stream",
     "text": [
      "Does your van communicate?\n"
     ]
    }
   ],
   "source": [
    "vehicle = \"van\"\n",
    "action = \"communicate\"\n",
    "print(\"Does your {} {}?\".format(vehicle, action))"
   ]
  },
  {
   "cell_type": "code",
   "execution_count": 126,
   "metadata": {},
   "outputs": [
    {
     "name": "stdout",
     "output_type": "stream",
     "text": [
      "Joe loves math, artificial intelligence and machine learning.\n"
     ]
    }
   ],
   "source": [
    "joe_string = \"Joe loves {}, {} and {}.\"\n",
    "new_str =joe_string.format(\"math\", \"artificial intelligence\", \"machine learning\")\n",
    "print(new_str)"
   ]
  },
  {
   "cell_type": "markdown",
   "metadata": {},
   "source": [
    "More advanced formal syntax for using the [format() string method](https://docs.python.org/3.6/library/string.html#format-string-syntax).\n",
    "\n",
    "You can learn more about strings and string methods by looking at the [string method documentation](https://docs.python.org/3/library/stdtypes.html#string-methods).\n",
    "\n",
    "Another important string method: split()\n",
    "\n",
    "A helpful string method when working with strings is the .split method. This function or method returns a data container called a list that contains the words from the input string"
   ]
  },
  {
   "cell_type": "code",
   "execution_count": 127,
   "metadata": {},
   "outputs": [
    {
     "data": {
      "text/plain": [
       "['Joe',\n",
       " 'loves',\n",
       " 'math,',\n",
       " 'artificial',\n",
       " 'intelligence',\n",
       " 'and',\n",
       " 'machine',\n",
       " 'learning.']"
      ]
     },
     "execution_count": 127,
     "metadata": {},
     "output_type": "execute_result"
    }
   ],
   "source": [
    "#A basic split method:\n",
    "new_str.split()"
   ]
  },
  {
   "cell_type": "code",
   "execution_count": 128,
   "metadata": {},
   "outputs": [
    {
     "data": {
      "text/plain": [
       "['Joe', 'loves', 'math,', 'artificial intelligence and machine learning.']"
      ]
     },
     "execution_count": 128,
     "metadata": {},
     "output_type": "execute_result"
    }
   ],
   "source": [
    "#lets change the separator is space, and the maxsplit argument is set to 3.\n",
    "new_str.split(' ', 3)"
   ]
  },
  {
   "cell_type": "code",
   "execution_count": 129,
   "metadata": {},
   "outputs": [
    {
     "data": {
      "text/plain": [
       "['Joe loves math, artificial intelligence and machine learning', '']"
      ]
     },
     "execution_count": 129,
     "metadata": {},
     "output_type": "execute_result"
    }
   ],
   "source": [
    "# Use '.' or period as a separator.\n",
    "new_str.split('.')"
   ]
  },
  {
   "cell_type": "code",
   "execution_count": 131,
   "metadata": {},
   "outputs": [
    {
     "data": {
      "text/plain": [
       "['Joe', 'loves', 'math,', 'artificial intelligence and machine learning.']"
      ]
     },
     "execution_count": 131,
     "metadata": {},
     "output_type": "execute_result"
    }
   ],
   "source": [
    "# Using no separators but having a maxsplit argument of 3.\n",
    "new_str.split(None, 3)"
   ]
  },
  {
   "cell_type": "code",
   "execution_count": 132,
   "metadata": {},
   "outputs": [],
   "source": [
    "verse = \"If you can keep your head when all about you\\n  Are losing theirs and blaming it on you,\\nIf you can trust yourself when all men doubt you,\\n  But make allowance for their doubting too;\\nIf you can wait and not be tired by waiting,\\n  Or being lied about, don’t deal in lies,\\nOr being hated, don’t give way to hating,\\n  And yet don’t look too good, nor talk too wise:\""
   ]
  },
  {
   "cell_type": "code",
   "execution_count": 133,
   "metadata": {},
   "outputs": [
    {
     "name": "stdout",
     "output_type": "stream",
     "text": [
      "If you can keep your head when all about you\n",
      "  Are losing theirs and blaming it on you,\n",
      "If you can trust yourself when all men doubt you,\n",
      "  But make allowance for their doubting too;\n",
      "If you can wait and not be tired by waiting,\n",
      "  Or being lied about, don’t deal in lies,\n",
      "Or being hated, don’t give way to hating,\n",
      "  And yet don’t look too good, nor talk too wise:\n"
     ]
    }
   ],
   "source": [
    "print(verse)"
   ]
  },
  {
   "cell_type": "markdown",
   "metadata": {},
   "source": [
    "1. What is the length of the string variable verse?\n",
    "2. What is the index of the first occurrence of the word 'and' in verse?\n",
    "3. What is the index of the last occurrence of the word 'you' in verse?\n",
    "4. What is the count of occurrences of the word 'you' in the verse?"
   ]
  },
  {
   "cell_type": "code",
   "execution_count": 146,
   "metadata": {},
   "outputs": [
    {
     "name": "stdout",
     "output_type": "stream",
     "text": [
      "Verse has a length of 362 characters.\n",
      "The first occurence of the word 'and' occurs at the 65th index.\n",
      "The last occurence of the word 'you' occurs at the 186th index.\n",
      "The word 'you' occurs 8 times in the verse.\n"
     ]
    }
   ],
   "source": [
    "# Use the appropriate functions and methods to answer the questions above\n",
    "# Bonus: practice using .format() to output your answers in descriptive messages!\n",
    "\n",
    "print(\"Verse has a length of {} characters.\".format(len(verse)))\n",
    "print(\"The first occurence of the word 'and' occurs at the {}th index.\".format(verse.find('and')))\n",
    "print(\"The last occurence of the word 'you' occurs at the {}th index.\".format(verse.rfind('you')))\n",
    "print(\"The word 'you' occurs {} times in the verse.\".format(verse.count('you')))"
   ]
  },
  {
   "cell_type": "code",
   "execution_count": null,
   "metadata": {},
   "outputs": [],
   "source": []
  }
 ],
 "metadata": {
  "kernelspec": {
   "display_name": "Python 3",
   "language": "python",
   "name": "python3"
  },
  "language_info": {
   "codemirror_mode": {
    "name": "ipython",
    "version": 3
   },
   "file_extension": ".py",
   "mimetype": "text/x-python",
   "name": "python",
   "nbconvert_exporter": "python",
   "pygments_lexer": "ipython3",
   "version": "3.7.4"
  }
 },
 "nbformat": 4,
 "nbformat_minor": 4
}
