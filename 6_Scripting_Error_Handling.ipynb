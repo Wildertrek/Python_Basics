{
 "cells": [
  {
   "cell_type": "markdown",
   "metadata": {},
   "source": [
    "## Scripting\n",
    "Welcome to scripting! \n",
    "\n",
    "1. Python Installation and Environment Setup\n",
    "2. Running and Editing Python Scripts\n",
    "3. Interacting with User Input\n",
    "4. Handling Exceptions\n",
    "5. Reading and Writing Files\n",
    "6. Importing Local, Standard, and Third-Party Modules\n",
    "7. Experimenting with an Interpreter"
   ]
  },
  {
   "cell_type": "markdown",
   "metadata": {},
   "source": [
    "## Before We Install Python:\n",
    "1. Prepare to Use Command Line\n",
    "To install Python and follow this lesson, you will need to use the command line. We will walk you through all the details, so don't worry if you have never used it before! If you would like to learn or refresh on command lines, we strongly recommend going through this free Shell Workshop lesson, where you can set up and learn how to use Unix Shell commands.\n",
    "\n",
    "** Note to Windows Users: Install Git Bash\n",
    "As noted in the free Shell Workshop linked above, we recommend you install Git Bash here and use this as your terminal for this lesson. Please note that during installation you should select the checkbox Use Git and Optional Unix tools from the Windows Command Prompt. This will allow you to use Unix commands while in Windows. If you'd rather use PowerShell, those commands are also provided in this lesson. For more information on the different command shells, check out the Shell Workshop lesson linked above.\n",
    "\n",
    "2. Is Python Already Installed On Your Computer?\n",
    "In this course, we're using the most recent major version of Python - Python 3. Although Python 2 is still being used in many places, it is no longer being updated. In order to keep up compatibility with future improvements to Python, we recommend using Python 3.\n",
    "\n",
    "Mac OS X and Linux usually come with Python 2 already installed. We DO NOT recommend that you make any changes to this Python, since parts of the operating system are using Python. However, it shouldn't do any harm to your system to install Python 3 separately, too.\n",
    "\n",
    "Windows doesn't usually come with Python included, but you can still check whether you have it installed before going ahead. So, first, check that you’ve not already got Python 3 installed.\n",
    "\n",
    "Open up your Terminal or Command Line (this would be Git Bash on Windows).\n",
    "\n",
    "In a new terminal or command prompt, type\n",
    "```terminal\n",
    "$ python --version\n",
    "and press Enter.\n",
    "```\n",
    "You might get a response that the Python version installed is something like Python 2.7.9. In that case, it would tell you that you have Python 2 installed, and you'll want to follow the steps in the next couple of sections to update it to Python 3.\n",
    "\n",
    "If instead the version number starts with a 3, then you already have Python 3 installed! Don't install Python again!\n",
    "\n",
    "So test your command line but chances are if you're running this notebook you can run these commands below and determine what versions you are running."
   ]
  },
  {
   "cell_type": "code",
   "execution_count": 2,
   "metadata": {},
   "outputs": [
    {
     "name": "stdout",
     "output_type": "stream",
     "text": [
      "Python 3.7.4\r\n"
     ]
    }
   ],
   "source": [
    "!python --version"
   ]
  },
  {
   "cell_type": "code",
   "execution_count": 3,
   "metadata": {},
   "outputs": [
    {
     "name": "stdout",
     "output_type": "stream",
     "text": [
      "conda 4.8.3\r\n"
     ]
    }
   ],
   "source": [
    "!conda --version"
   ]
  },
  {
   "cell_type": "code",
   "execution_count": 4,
   "metadata": {},
   "outputs": [
    {
     "name": "stdout",
     "output_type": "stream",
     "text": [
      "git version 2.27.0\r\n"
     ]
    }
   ],
   "source": [
    "!git --version"
   ]
  },
  {
   "cell_type": "code",
   "execution_count": 5,
   "metadata": {},
   "outputs": [
    {
     "name": "stdout",
     "output_type": "stream",
     "text": [
      "/Users/jsr/Documents/GitHub/Python_Basics\r\n"
     ]
    }
   ],
   "source": [
    "!pwd"
   ]
  },
  {
   "cell_type": "code",
   "execution_count": 6,
   "metadata": {},
   "outputs": [
    {
     "name": "stdout",
     "output_type": "stream",
     "text": [
      "Control_Flow.ipynb    Functions.ipynb       README.md\r\n",
      "Data_Structures.ipynb Intro_to_Python.ipynb Scripting.ipynb\r\n"
     ]
    }
   ],
   "source": [
    "!ls"
   ]
  },
  {
   "cell_type": "code",
   "execution_count": 7,
   "metadata": {},
   "outputs": [],
   "source": [
    "!mkdir scripts"
   ]
  },
  {
   "cell_type": "code",
   "execution_count": 8,
   "metadata": {},
   "outputs": [
    {
     "name": "stdout",
     "output_type": "stream",
     "text": [
      "Control_Flow.ipynb    Intro_to_Python.ipynb \u001b[34mscripts\u001b[m\u001b[m\r\n",
      "Data_Structures.ipynb README.md\r\n",
      "Functions.ipynb       Scripting.ipynb\r\n"
     ]
    }
   ],
   "source": [
    "!ls"
   ]
  },
  {
   "cell_type": "code",
   "execution_count": 14,
   "metadata": {},
   "outputs": [],
   "source": [
    "!chmod +rwx scripts/script.py"
   ]
  },
  {
   "cell_type": "code",
   "execution_count": 22,
   "metadata": {},
   "outputs": [
    {
     "name": "stdout",
     "output_type": "stream",
     "text": [
      "hello world!\r\n"
     ]
    }
   ],
   "source": [
    "!python scripts/script.py"
   ]
  },
  {
   "cell_type": "markdown",
   "metadata": {},
   "source": [
    "## Configure Your Own Python Programming Setup\n",
    "Take a moment to get yourself comfortable on your own computer.\n",
    "\n",
    "Below you will find a number of different options for code editors. We recommend for all of our courses using Atom, which will work on all operating systems. If you decide not to use Atom, for first time coders Sublime is also popular.\n",
    "\n",
    "For Mac and Linux:\n",
    "[Visual Studio Code](https://code.visualstudio.com/)\n",
    "[Atom](https://atom.io/)\n",
    "[Sublime Text](http://www.sublimetext.com/)\n",
    "[emacs](https://www.gnu.org/software/emacs/)\n",
    "[vim](http://www.vim.org/)\n",
    "\n",
    "For Windows:\n",
    "[Visual Studio Code](https://code.visualstudio.com/)\n",
    "[Atom](https://atom.io/)\n",
    "[Sublime Text](http://www.sublimetext.com/)\n",
    "[Notepad++](https://notepad-plus-plus.org/)\n",
    "\n",
    "Play with the display options to see what you find most comfortable to look at, and see if you can find a tab-to-four-spaces option - that'll be very useful for Python indentation."
   ]
  },
  {
   "cell_type": "code",
   "execution_count": 29,
   "metadata": {},
   "outputs": [
    {
     "name": "stdout",
     "output_type": "stream",
     "text": [
      "\n",
      "Welcome to Python3!\n",
      "\n",
      "              //\n",
      "            (, ,)\n",
      "----0oo----( )-----oo0----\n",
      "\n",
      "\n",
      "Many Joes\n",
      "\n",
      "Welcome to Python3!\n",
      "\n",
      "              //\n",
      "            (, ,)\n",
      "----0oo----( )-----oo0----\n",
      "\n",
      "\n",
      "Many Joes\n",
      "\n"
     ]
    }
   ],
   "source": [
    "how_many_joes = 2\n",
    "joe_string = \"\"\"\n",
    "Welcome to Python3!\n",
    "\n",
    "              //\n",
    "            (, ,)\n",
    "----0oo----( )-----oo0----\n",
    "\n",
    "\n",
    "Many Joes\n",
    "\"\"\"\n",
    "\n",
    "\n",
    "print(joe_string * how_many_joes)"
   ]
  },
  {
   "cell_type": "markdown",
   "metadata": {},
   "source": [
    "## Scripting With Raw Input\n",
    "We can get raw input from the user with the built-in function input, which takes in an optional string argument that you can use to specify a message to show to the user when asking for input.\n",
    "```python\n",
    "name = input(\"Enter your name: \")\n",
    "print(\"Hello there, {}!\".format(name.title()))\n",
    "```\n",
    "This prompts the user to enter a name and then uses the input in a greeting. The input function takes in whatever the user types and stores it as a string. If you want to interpret their input as something other than a string, like an integer, as in the example below, you need to wrap the result with the new type to convert it from a string.\n",
    "```python\n",
    "num = int(input(\"Enter an integer\"))\n",
    "print(\"hello\" * num)\n",
    "```\n",
    "\n",
    "We can also interpret user input as a Python expression using the built-in function eval. This function evaluates a string as a line of Python.\n",
    "```python\n",
    "result = eval(input(\"Enter an expression: \"))\n",
    "print(result)\n",
    "```\n",
    "\n",
    "```zsh - shell\n",
    "If the user inputs 2 * 3, this outputs 6.\n",
    "```"
   ]
  },
  {
   "cell_type": "code",
   "execution_count": 30,
   "metadata": {},
   "outputs": [
    {
     "name": "stdout",
     "output_type": "stream",
     "text": [
      "hello world\r\n"
     ]
    }
   ],
   "source": [
    "!echo \"hello world\" "
   ]
  },
  {
   "cell_type": "code",
   "execution_count": 32,
   "metadata": {},
   "outputs": [
    {
     "name": "stdout",
     "output_type": "stream",
     "text": [
      "['Control_Flow.ipynb', 'Data_Structures.ipynb', 'Functions.ipynb', 'Intro_to_Python.ipynb', 'README.md', 'Scripting.ipynb', 'scripts']\n"
     ]
    }
   ],
   "source": [
    "contents = !ls\n",
    "print(contents)"
   ]
  },
  {
   "cell_type": "code",
   "execution_count": 33,
   "metadata": {},
   "outputs": [
    {
     "name": "stdout",
     "output_type": "stream",
     "text": [
      "['/Users/jsr/Documents/GitHub/Python_Basics']\n"
     ]
    }
   ],
   "source": [
    "directory = !pwd\n",
    "print(directory)"
   ]
  },
  {
   "cell_type": "code",
   "execution_count": 34,
   "metadata": {},
   "outputs": [
    {
     "data": {
      "text/plain": [
       "IPython.utils.text.SList"
      ]
     },
     "execution_count": 34,
     "metadata": {},
     "output_type": "execute_result"
    }
   ],
   "source": [
    "type(directory)"
   ]
  },
  {
   "cell_type": "code",
   "execution_count": 35,
   "metadata": {},
   "outputs": [
    {
     "name": "stdout",
     "output_type": "stream",
     "text": [
      "hello from Python\r\n"
     ]
    }
   ],
   "source": [
    "message = \"hello from Python\"\n",
    "!echo {message}"
   ]
  },
  {
   "cell_type": "markdown",
   "metadata": {},
   "source": [
    "## Shell-Related Magic Commands\n",
    "If you play with shell commands for a while, you might notice that you cannot use !cd to navigate the filesystem. The reason is that shell commands in the notebook are executed in a temporary subshell. If you'd like to change the working directory in a more enduring way, you can use the %cd magic command:"
   ]
  },
  {
   "cell_type": "code",
   "execution_count": 36,
   "metadata": {},
   "outputs": [
    {
     "name": "stdout",
     "output_type": "stream",
     "text": [
      "/Users/jsr/Documents/GitHub/Python_Basics\r\n"
     ]
    }
   ],
   "source": [
    "!pwd"
   ]
  },
  {
   "cell_type": "code",
   "execution_count": 37,
   "metadata": {},
   "outputs": [
    {
     "name": "stdout",
     "output_type": "stream",
     "text": [
      "Control_Flow.ipynb    Intro_to_Python.ipynb \u001b[34mscripts\u001b[m\u001b[m\r\n",
      "Data_Structures.ipynb README.md\r\n",
      "Functions.ipynb       Scripting.ipynb\r\n"
     ]
    }
   ],
   "source": [
    "!ls"
   ]
  },
  {
   "cell_type": "code",
   "execution_count": 38,
   "metadata": {},
   "outputs": [
    {
     "name": "stdout",
     "output_type": "stream",
     "text": [
      "/Users/jsr/Documents/GitHub/Python_Basics/scripts\n"
     ]
    }
   ],
   "source": [
    "%cd scripts"
   ]
  },
  {
   "cell_type": "code",
   "execution_count": 39,
   "metadata": {},
   "outputs": [
    {
     "name": "stdout",
     "output_type": "stream",
     "text": [
      "\u001b[31mscript.py\u001b[m\u001b[m\r\n"
     ]
    }
   ],
   "source": [
    "!ls"
   ]
  },
  {
   "cell_type": "code",
   "execution_count": 44,
   "metadata": {},
   "outputs": [
    {
     "name": "stdout",
     "output_type": "stream",
     "text": [
      "hello world!\r\n"
     ]
    }
   ],
   "source": [
    "!python script.py"
   ]
  },
  {
   "cell_type": "code",
   "execution_count": 46,
   "metadata": {},
   "outputs": [
    {
     "name": "stdout",
     "output_type": "stream",
     "text": [
      "print(\"hello world!\")\n",
      "\n",
      "\u001b[K\u001b[7m(END)\u001b[m\u001b[K)\u001b[m\u001b[K\u0007"
     ]
    }
   ],
   "source": [
    "!less script.py"
   ]
  },
  {
   "cell_type": "code",
   "execution_count": 47,
   "metadata": {},
   "outputs": [
    {
     "name": "stdout",
     "output_type": "stream",
     "text": [
      "/Users/jsr/Documents/GitHub/Python_Basics\n"
     ]
    }
   ],
   "source": [
    "%cd .."
   ]
  },
  {
   "cell_type": "markdown",
   "metadata": {},
   "source": [
    "## Generate Messages\n",
    "Imagine you're a teacher who needs to send a message to each of your students reminding them of their missing assignments and grade in the class. You have each of their names, number of missing assignments, and grades on a spreadsheet and just have to insert them into placeholders in this message you came up with:\n",
    "\n",
    "Hi [insert student name],\n",
    "\n",
    "This is a reminder that you have [insert number of missing assignments] assignments left to submit before you can graduate. Your current grade is [insert current grade] and can increase to [insert potential grade] if you submit all assignments before the due date.\n",
    "\n",
    "You can just copy and paste this message to each student and manually insert the appropriate values each time, but instead you're going to write a program that does this for you.\n",
    "\n",
    "Write a script that does the following:\n",
    "\n",
    "Ask for user input 3 times. Once for a list of names, once for a list of missing assignment counts, and once for a list of grades. Use this input to create lists for names, assignments, and grades.\n",
    "Use a loop to print the message for each student with the correct values. The potential grade is simply the current grade added to two times the number of missing assignments."
   ]
  },
  {
   "cell_type": "code",
   "execution_count": 48,
   "metadata": {},
   "outputs": [
    {
     "name": "stdout",
     "output_type": "stream",
     "text": [
      "Enter names separated by commas: Joe, Bob, Billy\n",
      "Enter assignment counts separated by commas: 1,2,3\n",
      "Enter grades separated by commas: 10,20,30\n",
      "Hi Joe,\n",
      "\n",
      "This is a reminder that you have 1 assignments left to submit before you can graduate. You're current grade is 10 and can increase to 12 if you submit all assignments before the due date.\n",
      "\n",
      "\n",
      "Hi  Bob,\n",
      "\n",
      "This is a reminder that you have 2 assignments left to submit before you can graduate. You're current grade is 20 and can increase to 24 if you submit all assignments before the due date.\n",
      "\n",
      "\n",
      "Hi  Billy,\n",
      "\n",
      "This is a reminder that you have 3 assignments left to submit before you can graduate. You're current grade is 30 and can increase to 36 if you submit all assignments before the due date.\n",
      "\n",
      "\n"
     ]
    }
   ],
   "source": [
    "names = input(\"Enter names separated by commas: \").title().split(\",\")\n",
    "assignments = input(\"Enter assignment counts separated by commas: \").split(\",\")\n",
    "grades = input(\"Enter grades separated by commas: \").split(\",\")\n",
    "\n",
    "message = \"Hi {},\\n\\nThis is a reminder that you have {} assignments left to \\\n",
    "submit before you can graduate. You're current grade is {} and can increase \\\n",
    "to {} if you submit all assignments before the due date.\\n\\n\"\n",
    "\n",
    "for name, assignment, grade in zip(names, assignments, grades):\n",
    "    print(message.format(name, assignment, grade, int(grade) + int(assignment)*2))"
   ]
  },
  {
   "cell_type": "markdown",
   "metadata": {},
   "source": [
    "## Errors And Exceptions\n",
    "__Syntax__ errors occur when Python can’t interpret our code, since we didn’t follow the correct syntax for Python. These are errors you’re likely to get when you make a typo, or you’re first starting to learn Python.\n",
    "\n",
    "__Exceptions__ occur when unexpected things happen during execution of a program, even if the code is syntactically correct. There are different types of built-in exceptions in Python, and you can see which exception is thrown in the error message.\n",
    "\n",
    "https://docs.python.org/3/tutorial/errors.html"
   ]
  },
  {
   "cell_type": "markdown",
   "metadata": {},
   "source": [
    "## Try Statement\n",
    "We can use try statements to handle exceptions. There are four clauses you can use (one more in addition to those shown in the video).\n",
    "\n",
    "- try: This is the only mandatory clause in a try statement. The code in this block is the first thing that Python runs in a try statement.\n",
    "- except: If Python runs into an exception while running the try block, it will jump to the except block that handles that exception.\n",
    "- else: If Python runs into no exceptions while running the try block, it will run the code in this block after running the try block.\n",
    "- finally: Before Python leaves this try statement, it will run the code in this finally block under any conditions, even if it's ending the program. E.g., if Python ran into an error while running code in the except or else block, this finally block will still be executed before stopping the program.\n",
    "\n",
    "## Specifying Exceptions\n",
    "We can actually specify which error we want to handle in an except block like this:\n",
    "```python\n",
    "try:\n",
    "    # some code\n",
    "except ValueError:\n",
    "    # some code\n",
    "```   \n",
    "Now, it catches the ValueError exception, but not other exceptions. If we want this handler to address more than one type of exception, we can include a parenthesized tuple after the except with the exceptions.\n",
    "```python\n",
    "try:\n",
    "    # some code\n",
    "except (ValueError, KeyboardInterrupt):\n",
    "    # some code\n",
    "```\n",
    "Or, if we want to execute different blocks of code depending on the exception, you can have multiple except blocks.\n",
    "\n",
    "```python\n",
    "try:\n",
    "    # some code\n",
    "except ValueError:\n",
    "    # some code\n",
    "except KeyboardInterrupt:\n",
    "    # some code\n",
    "```\n"
   ]
  },
  {
   "cell_type": "code",
   "execution_count": 49,
   "metadata": {},
   "outputs": [
    {
     "name": "stdout",
     "output_type": "stream",
     "text": [
      "How many cookies are you baking? 20\n",
      "How many people are attending? 10\n",
      "\n",
      "Let's party! We'll have 10 people attending, they'll each get to eat 2 cookies, and we'll have 0 left over.\n",
      "\n",
      "Would you like to party more? (y or n) y\n",
      "How many cookies are you baking? 40\n",
      "How many people are attending? 3\n",
      "\n",
      "Let's party! We'll have 3 people attending, they'll each get to eat 13 cookies, and we'll have 1 left over.\n",
      "\n",
      "Would you like to party more? (y or n) n\n"
     ]
    }
   ],
   "source": [
    "def party_planner(cookies, people):\n",
    "    leftovers = None\n",
    "    num_each = None\n",
    "\n",
    "    try:\n",
    "        num_each = cookies // people\n",
    "        leftovers = cookies % people\n",
    "    except ZeroDivisionError:\n",
    "        print(\"Oops, you entered 0 people will be attending.\")\n",
    "        print(\"Please enter a good number of people for a party.\")\n",
    "\n",
    "    return(num_each, leftovers)\n",
    "\n",
    "# The main code block is below; do not edit this\n",
    "lets_party = 'y'\n",
    "while lets_party == 'y':\n",
    "\n",
    "    cookies = int(input(\"How many cookies are you baking? \"))\n",
    "    people = int(input(\"How many people are attending? \"))\n",
    "\n",
    "    cookies_each, leftovers = party_planner(cookies, people)\n",
    "\n",
    "    if cookies_each:  # if cookies_each is not None\n",
    "        message = \"\\nLet's party! We'll have {} people attending, they'll each get to eat {} cookies, and we'll have {} left over.\"\n",
    "        print(message.format(people, cookies_each, leftovers))\n",
    "\n",
    "    lets_party = input(\"\\nWould you like to party more? (y or n) \")"
   ]
  },
  {
   "cell_type": "markdown",
   "metadata": {},
   "source": [
    "## Accessing Error Messages\n",
    "When you handle an exception, you can still access its error message like this:\n",
    "\n",
    "```python\n",
    "try:\n",
    "    # some code\n",
    "except ZeroDivisionError as e:\n",
    "   # some code\n",
    "   print(\"ZeroDivisionError occurred: {}\".format(e))\n",
    "```    \n",
    "\n",
    "This would print something like this:\n",
    "\n",
    "```zsh\n",
    "ZeroDivisionError occurred: integer division or modulo by zero\n",
    "```\n",
    "So you can still access error messages, even if you handle them to keep your program from crashing!\n",
    "\n",
    "If you don't have a specific error you're handling, you can still access the message like this:\n",
    "```python\n",
    "try:\n",
    "    # some code\n",
    "except Exception as e:\n",
    "   # some code\n",
    "   print(\"Exception occurred: {}\".format(e))\n",
    "```\n",
    "Exception is just the base class for all built-in exceptions. You can learn more about Python's exceptions here."
   ]
  },
  {
   "cell_type": "markdown",
   "metadata": {},
   "source": [
    "## Reading a File\n",
    "```python\n",
    "f = open('my_path/my_file.txt', 'r')\n",
    "file_data = f.read()\n",
    "f.close()\n",
    "```\n",
    "First open the file using the built-in function, open. This requires a string that shows the path to the file. The open function returns a file object, which is a Python object through which Python interacts with the file itself. Here, we assign this object to the variable f.\n",
    "\n",
    "There are optional parameters you can specify in the open function. One is the mode in which we open the file. Here, we use r or read only. This is actually the default value for the mode argument.\n",
    "\n",
    "Use the read method to access the contents from the file object. This read method takes the text contained in a file and puts it into a string. Here, we assign the string returned from this method into the variable file_data.\n",
    "When finished with the file, use the close method to free up any system resources taken up by the file.\n",
    "Writing to a File\n",
    "```python\n",
    "f = open('my_path/my_file.txt', 'w')\n",
    "f.write(\"Hello there!\")\n",
    "f.close()\n",
    "```\n",
    "Open the file in writing ('w') mode. If the file does not exist, Python will create it for you. If you open an existing file in writing mode, any content that it had contained previously will be deleted. If you're interested in adding to an existing file, without deleting its content, you should use the append ('a') mode instead of write.\n",
    "\n",
    "Use the write method to add text to the file.\n",
    "Close the file when finished.\n",
    "Too Many Open Files\n",
    "Run the following script in Python to see what happens when you open too many files without closing them!\n",
    "```python\n",
    "files = []\n",
    "for i in range(10000):\n",
    "    files.append(open('some_file.txt', 'r'))\n",
    "    print(i)\n",
    "```"
   ]
  },
  {
   "cell_type": "code",
   "execution_count": 59,
   "metadata": {},
   "outputs": [
    {
     "name": "stdout",
     "output_type": "stream",
     "text": [
      "print(\"hello world!\")\n",
      "\n",
      "\n"
     ]
    }
   ],
   "source": [
    "#read file\n",
    "f = open('scripts/script.py', 'r')\n",
    "file_data = f.read()\n",
    "print(file_data)\n",
    "f.close()"
   ]
  },
  {
   "cell_type": "code",
   "execution_count": 57,
   "metadata": {},
   "outputs": [],
   "source": [
    "f = open('scripts/test.txt', 'w')\n",
    "f.write(\"Test Good\")\n",
    "f.close()"
   ]
  },
  {
   "cell_type": "code",
   "execution_count": 58,
   "metadata": {},
   "outputs": [
    {
     "name": "stdout",
     "output_type": "stream",
     "text": [
      "Test Good\n"
     ]
    }
   ],
   "source": [
    "#read file\n",
    "f = open('scripts/test.txt', 'r')\n",
    "file_data = f.read()\n",
    "print(file_data)\n",
    "f.close()"
   ]
  },
  {
   "cell_type": "markdown",
   "metadata": {},
   "source": [
    "## With\n",
    "Python provides a special syntax that auto-closes a file for you once you're finished using it.\n",
    "```python\n",
    "with open('my_path/my_file.txt', 'r') as f:\n",
    "    file_data = f.read()\n",
    "```\n",
    "This with keyword allows you to open a file, do operations on it, and automatically close it after the indented code is executed, in this case, reading from the file. Now, we don’t have to call f.close()! You can only access the file object, f, within this indented block."
   ]
  },
  {
   "cell_type": "markdown",
   "metadata": {},
   "source": [
    "## Calling the read Method with an Integer\n",
    "In the code above, the call to f.read() had no arguments passed to it. This defaults to reading all the remainder of the file from its current position - the whole file. If you pass the read method an integer argument, it will read up to that number of characters, output all of them, and keep the 'window' at that position ready to read on.\n",
    "\n",
    "Let's see this in an example that uses the following file, camelot.txt:\n",
    "\n",
    "We're the knights of the round table\n",
    "We dance whenever we're able\n",
    "\n",
    "Here's a script that reads in the file a little at a time by passing an integer argument to .read().\n",
    "\n",
    "```python\n",
    "with open(\"camelot.txt\") as song:\n",
    "    print(song.read(2))\n",
    "    print(song.read(8))\n",
    "    print(song.read())\n",
    "Outputs:\n",
    "```\n",
    "\n",
    "We\n",
    "'re the \n",
    "knights of the round table\n",
    "We dance whenever we're able\n",
    "\n",
    "You can try out this example by creating your own camelot.txt and example.py files with the text above.\n",
    "\n",
    "Each time we called read on the file with an integer argument, it read up to that number of characters, outputted them, and kept the 'window' at that position for the next call to read. This makes moving around in the open file a little tricky, as there aren't many landmarks to navigate by.\n",
    "\n",
    "Reading Line by Line\n",
    "\\ns in blocks of text are newline characters. The newline character marks the end of a line, and tells a program (such as a text editor) to go down to the next line. However, looking at the stream of characters in the file, \\n is just another character."
   ]
  },
  {
   "cell_type": "code",
   "execution_count": 63,
   "metadata": {},
   "outputs": [],
   "source": [
    "f = open('scripts/camelot.txt', 'w')\n",
    "f.write(\"We're the knights of the round table \")\n",
    "f.write(\"We dance whenever we're able\")\n",
    "f.close()"
   ]
  },
  {
   "cell_type": "code",
   "execution_count": 64,
   "metadata": {},
   "outputs": [
    {
     "name": "stdout",
     "output_type": "stream",
     "text": [
      "We're the knights of the round table We dance whenever we're able\n"
     ]
    }
   ],
   "source": [
    "#read file\n",
    "f = open('scripts/camelot.txt', 'r')\n",
    "file_data = f.read()\n",
    "print(file_data)\n",
    "f.close()"
   ]
  },
  {
   "cell_type": "code",
   "execution_count": 66,
   "metadata": {},
   "outputs": [
    {
     "name": "stdout",
     "output_type": "stream",
     "text": [
      "We\n",
      "'re the \n",
      "knights of the round table We dance whenever we're able\n"
     ]
    }
   ],
   "source": [
    "with open(\"scripts/camelot.txt\") as song:\n",
    "    print(song.read(2))\n",
    "    print(song.read(8))\n",
    "    print(song.read())"
   ]
  },
  {
   "cell_type": "code",
   "execution_count": 68,
   "metadata": {},
   "outputs": [
    {
     "name": "stdout",
     "output_type": "stream",
     "text": [
      "[\"We're the knights of the round table We dance whenever we're able\"]\n"
     ]
    }
   ],
   "source": [
    "camelot_lines = []\n",
    "with open(\"scripts/camelot.txt\") as f:\n",
    "    for line in f:\n",
    "        camelot_lines.append(line.strip())\n",
    "\n",
    "print(camelot_lines)"
   ]
  },
  {
   "cell_type": "markdown",
   "metadata": {},
   "source": [
    "## Flying Circus Cast List\n",
    "You're going to create a list of the actors who appeared in the television programme Monty Python's Flying Circus.\n",
    "\n",
    "Write a function called create_cast_list that takes a filename as input and returns a list of actors' names. It will be run on the file flying_circus_cast.txt (this information was collected from imdb.com). Each line of that file consists of an actor's name, a comma, and then some (messy) information about roles they played in the programme. You'll need to extract only the name and add it to a list. You might use the [.split() method](https://docs.python.org/3/library/stdtypes.html#str.split) to process each line."
   ]
  },
  {
   "cell_type": "code",
   "execution_count": 69,
   "metadata": {},
   "outputs": [
    {
     "name": "stdout",
     "output_type": "stream",
     "text": [
      "Graham Chapman\n",
      "Eric Idle\n",
      "Terry Jones\n",
      "Michael Palin\n",
      "Terry Gilliam\n",
      "John Cleese\n",
      "Carol Cleveland\n",
      "Ian Davidson\n",
      "John Hughman\n",
      "The Fred Tomlinson Singers\n",
      "Connie Booth\n",
      "Bob Raymond\n",
      "Lyn Ashley\n",
      "Rita Davies\n",
      "Stanley Mason\n",
      "David Ballantyne\n",
      "Donna Reading\n",
      "Peter Brett\n",
      "Maureen Flanagan\n",
      "Katya Wyeth\n",
      "Frank Lester\n",
      "Neil Innes\n",
      "Dick Vosburgh\n",
      "Sandra Richards\n",
      "Julia Breck\n",
      "Nicki Howorth\n",
      "Jimmy Hill\n",
      "Barry Cryer\n",
      "Jeannette Wild\n",
      "Marjorie Wilde\n",
      "Marie Anderson\n",
      "Caron Gardner\n",
      "Nosher Powell\n",
      "Carolae Donoghue\n",
      "Vincent Wong\n",
      "Helena Clayton\n",
      "Nigel Jones\n",
      "Roy Gunson\n",
      "Daphne Davey\n",
      "Stenson Falke\n",
      "Alexander Curry\n",
      "Frank Williams\n",
      "Ralph Wood\n",
      "Rosalind Bailey\n",
      "Marion Mould\n",
      "Sheila Sands\n",
      "Richard Baker\n",
      "Douglas Adams\n",
      "Ewa Aulin\n",
      "Reginald Bosanquet\n",
      "Barbara Lindley\n",
      "Roy Brent\n",
      "Jonas Card\n",
      "Tony Christopher\n",
      "Beulah Hughes\n",
      "Peter Kodak\n",
      "Lulu\n",
      "Jay Neill\n",
      "Graham Skidmore\n",
      "Ringo Starr\n",
      "Fred Tomlinson\n",
      "David Hamilton\n",
      "Suzy Mandel\n",
      "Peter Woods\n"
     ]
    }
   ],
   "source": [
    "def create_cast_list(filename):\n",
    "    cast_list = []\n",
    "    with open(filename) as f:\n",
    "        for line in f:\n",
    "            name = line.split(\",\")[0]\n",
    "            cast_list.append(name)\n",
    "\n",
    "    return cast_list\n",
    "\n",
    "cast_list = create_cast_list('scripts/flying_circus_cast.txt')\n",
    "for actor in cast_list:\n",
    "    print(actor)"
   ]
  },
  {
   "cell_type": "markdown",
   "metadata": {},
   "source": [
    "## Importing Local Scripts\n",
    "We can actually import Python code from other scripts, which is helpful if you are working on a bigger project where you want to organize your code into multiple files and reuse code in those files. If the Python script you want to import is in the same directory as your current script, you just type import followed by the name of the file, without the .py extension.\n",
    "\n",
    "```python\n",
    "import useful_functions\n",
    "```\n",
    "It's the standard convention for import statements to be written at the top of a Python script, each one on a separate line. This import statement creates a module object called useful_functions. Modules are just Python files that contain definitions and statements. To access objects from an imported module, you need to use dot notation.\n",
    "\n",
    "```python\n",
    "import useful_functions\n",
    "useful_functions.add_five([1, 2, 3, 4])\n",
    "```\n",
    "We can add an alias to an imported module to reference it with a different name.\n",
    "\n",
    "```python\n",
    "import useful_functions as uf\n",
    "uf.add_five([1, 2, 3, 4])\n",
    "```\n",
    "\n",
    "Using a main block\n",
    "To avoid running executable statements in a script when it's imported as a module in another script, include these lines in an if __name__ == \"__main__\" block. Or alternatively, include them in a function called main() and call this in the if main block.\n",
    "\n",
    "Whenever we run a script like this, Python actually sets a special built-in variable called __name__ for any module. When we run a script, Python recognizes this module as the main program, and sets the __name__ variable for this module to the string \"__main__\". For any modules that are imported in this script, this built-in __name__ variable is just set to the name of that module. Therefore, the condition if __name__ == \"__main__\"is just checking whether this module is the main program.\n",
    "\n"
   ]
  },
  {
   "cell_type": "code",
   "execution_count": 73,
   "metadata": {},
   "outputs": [
    {
     "name": "stdout",
     "output_type": "stream",
     "text": [
      "Scores: [88, 92, 79, 93, 85]\r\n",
      "Original Mean: 87.4  New Mean: 92.4\r\n",
      "__main__\r\n",
      "useful_functions\r\n"
     ]
    }
   ],
   "source": [
    "!python scripts/demo.py"
   ]
  },
  {
   "cell_type": "markdown",
   "metadata": {},
   "source": [
    "## The Standard Library\n",
    "You can discover new modules at the [Python Module](https://pymotw.com/3/) of the Week blog."
   ]
  },
  {
   "cell_type": "markdown",
   "metadata": {},
   "source": [
    "The Python Standard Library has a lot of modules! To help you get familiar with what's available, here is a selection of favorite Python Standard Library modules!\n",
    "\n",
    "- [csv](https://docs.python.org/3/library/csv.html): very convenient for reading and writing csv files\n",
    "- [collections](https://docs.python.org/3/library/collections.html): useful extensions of the usual data types including OrderedDict, defaultdict and namedtuple\n",
    "- [random](https://docs.python.org/3/library/random.html): generates pseudo-random numbers, shuffles sequences randomly and chooses random items\n",
    "- [string](https://docs.python.org/3/library/string.html): more functions on strings. This module also contains useful collections of letters like string.digits (a string containing all characters which are valid digits).\n",
    "- [re](https://docs.python.org/3/library/re.html): pattern-matching in strings via regular expressions\n",
    "- [math](https://docs.python.org/3/library/math.html): some standard mathematical functions\n",
    "- [os](https://docs.python.org/3/library/os.html): interacting with operating systems\n",
    "- [os.path](https://docs.python.org/3/library/os.path.html): submodule of os for manipulating path names\n",
    "- [sys](https://docs.python.org/3/library/sys.html): work directly with the Python interpreter\n",
    "- [json](https://docs.python.org/3/library/json.html): good for reading and writing json files \n",
    "\n",
    "```python\n",
    "import math\n",
    "print(math.exp(3))\n",
    "```"
   ]
  },
  {
   "cell_type": "code",
   "execution_count": 74,
   "metadata": {},
   "outputs": [
    {
     "name": "stdout",
     "output_type": "stream",
     "text": [
      "20.085536923187668\n"
     ]
    }
   ],
   "source": [
    "# print e to the power of 3 using the math module\n",
    "import math\n",
    "exp_3 = math.exp(3)\n",
    "print(exp_3)"
   ]
  },
  {
   "cell_type": "code",
   "execution_count": 76,
   "metadata": {},
   "outputs": [
    {
     "name": "stdout",
     "output_type": "stream",
     "text": [
      "havingthoughtvery\n"
     ]
    }
   ],
   "source": [
    "# Use an import statement at the top\n",
    "import random\n",
    "\n",
    "word_file = \"scripts/words.txt\"\n",
    "word_list = []\n",
    "\n",
    "#fill up the word_list\n",
    "with open(word_file,'r') as words:\n",
    "\tfor line in words:\n",
    "\t\t# remove white space and make everything lowercase\n",
    "\t\tword = line.strip().lower()\n",
    "\t\t# don't include words that are too long or too short\n",
    "\t\tif 3 < len(word) < 8:\n",
    "\t\t\tword_list.append(word)\n",
    "\n",
    "# Add your function generate_password here\n",
    "# It should return a string consisting of three random words \n",
    "# concatenated together without spaces\n",
    "def generate_password():\n",
    "    return random.choice(word_list) + random.choice(word_list) + random.choice(word_list)\n",
    "\n",
    "# test your function\n",
    "print(generate_password())"
   ]
  },
  {
   "cell_type": "markdown",
   "metadata": {},
   "source": [
    "## Techniques for Importing Modules\n",
    "There are other variants of import statements that are useful in different situations.\n",
    "\n",
    "To import an individual function or class from a module:\n",
    "```python \n",
    "from module_name import object_name\n",
    "```\n",
    "To import multiple individual objects from a module:\n",
    "```python \n",
    "from module_name import first_object, second_object\n",
    "```\n",
    "To rename a module:\n",
    "```python \n",
    "import module_name as new_name\n",
    "```\n",
    "To import an object from a module and rename it:\n",
    "```python \n",
    "from module_name import object_name as new_name\n",
    "```\n",
    "To import every object individually from a module (DO NOT DO THIS):\n",
    "```python \n",
    "from module_name import *\n",
    "```\n",
    "If you really want to use all of the objects from a module, use the standard import module_name statement instead and access each of the objects with the dot notation.\n",
    "```python \n",
    "import module_name\n",
    "```\n",
    "\n",
    "## Modules, Packages, and Names\n",
    "In order to manage the code better, modules in the Python Standard Library are split down into sub-modules that are contained within a package. A package is simply a module that contains sub-modules. A sub-module is specified with the usual dot notation.\n",
    "\n",
    "Modules that are submodules are specified by the package name and then the submodule name separated by a dot. You can import the submodule like this.\n",
    "```python\n",
    "import package_name.submodule_name\n",
    "```"
   ]
  },
  {
   "cell_type": "markdown",
   "metadata": {},
   "source": [
    "## Third-Party Libraries\n",
    "There are tens of thousands of third-party libraries written by independent developers! You can install them using pip, a package manager that is included with Python 3. pip is the standard package manager for Python, but it isn't the only one. One popular alternative is Anaconda which is designed specifically for data science.\n",
    "\n",
    "To install a package using pip, just enter \"pip install\" followed by the name of the package in your command line like this: pip install package_name. This downloads and installs the package so that it's available to import in your programs. Once installed, you can import third-party packages using the same syntax used to import from the standard library.\n",
    "\n",
    "Using a requirements.txt File\n",
    "Larger Python programs might depend on dozens of third party packages. To make it easier to share these programs, programmers often list a project's dependencies in a file called requirements.txt. This is an example of a requirements.txt file.\n",
    "```json\n",
    "beautifulsoup4==4.5.1\n",
    "bs4==0.0.1\n",
    "pytz==2016.7\n",
    "requests==2.11.1\n",
    "```\n",
    "\n",
    "Each line of the file includes the name of a package and its version number. The version number is optional, but it usually should be included. Libraries can change subtly, or dramatically, between versions, so it's important to use the same library versions that the program's author used when they wrote the program.\n",
    "\n",
    "You can use pip to install all of a project's dependencies at once by typing pip install -r requirements.txt in your command line.\n",
    "\n",
    "## Useful Third-Party Packages\n",
    "Being able to install and import third party libraries is useful, but to be an effective programmer you also need to know what libraries are available for you to use. People typically learn about useful new libraries from online recommendations or from colleagues. If you're a new Python programmer you may not have many colleagues, so to get you started here's a list of packages that are popular with engineers at Udacity.\n",
    "\n",
    "- [IPython](https://ipython.org/) - A better interactive Python interpreter\n",
    "- [Jupyter Project](https://jupyter.org/) - As of IPython 4.0, the language-agnostic parts of the project: the notebook format, message protocol, qtconsole, notebook web application, etc. have moved to new projects under the name Jupyter.\n",
    "- [requests](https://requests.readthedocs.io/en/master/) - Provides easy to use methods to make web requests. Useful for accessing web APIs.\n",
    "- [Flask](https://flask.palletsprojects.com/en/1.1.x/) - a lightweight framework for making web applications and APIs.\n",
    "- [Django](https://www.djangoproject.com/) - A more featureful framework for making web applications. Django is particularly good for designing complex, content heavy, web applications.\n",
    "- [Beautiful Soup](https://www.crummy.com/software/BeautifulSoup/) - Used to parse HTML and extract information from it. Great for web scraping.\n",
    "- [pytest](https://docs.pytest.org/en/stable/) - extends Python's builtin assertions and unittest module.\n",
    "- [PyYAML](https://pyyaml.org/wiki/PyYAML) - For reading and writing YAML files.\n",
    "- [NumPy](https://numpy.org/) - The fundamental package for scientific computing with Python. It contains among other things a powerful N-dimensional array object and useful linear algebra capabilities.\n",
    "- [pandas](https://pandas.pydata.org/) - A library containing high-performance, data structures and data analysis tools. In particular, pandas provides dataframes!\n",
    "- [matplotlib](https://matplotlib.org/) - a 2D plotting library which produces publication quality figures in a variety of hardcopy formats and interactive environments.\n",
    "- [ggplot](http://ggplot.yhathq.com/) - Another 2D plotting library, based on R's ggplot2 library.\n",
    "- [Pillow](https://python-pillow.org/) - The Python Imaging Library adds image processing capabilities to your Python interpreter.\n",
    "- [pyglet](http://pyglet.org/) - A cross-platform application framework intended for game development.\n",
    "- [Pygame](https://www.pygame.org/news) - A set of Python modules designed for writing games.\n",
    "- [pytz](http://pytz.sourceforge.net/) - World Timezone Definitions for Python"
   ]
  },
  {
   "cell_type": "markdown",
   "metadata": {},
   "source": [
    "if you type any object plus a question mark:\n",
    "```python\n",
    "len? \n",
    "```\n",
    "then execute you will see details about the object such as:\n",
    "\n",
    "```shell\n",
    "Signature: len(obj, /)\n",
    "Docstring: Return the number of items in a container.\n",
    "Type:      builtin_function_or_method\n",
    "```\n",
    "\n",
    "or if you want see what objects are available press the __tab__ key after a period.\n",
    "\n",
    "```python\n",
    "'string'.\n",
    "```\n",
    "select capitalize() "
   ]
  },
  {
   "cell_type": "code",
   "execution_count": 77,
   "metadata": {},
   "outputs": [],
   "source": [
    "len?"
   ]
  },
  {
   "cell_type": "code",
   "execution_count": 78,
   "metadata": {},
   "outputs": [
    {
     "data": {
      "text/plain": [
       "'String'"
      ]
     },
     "execution_count": 78,
     "metadata": {},
     "output_type": "execute_result"
    }
   ],
   "source": [
    "'string'.capitalize()"
   ]
  },
  {
   "cell_type": "markdown",
   "metadata": {},
   "source": [
    "## Python Resources\n",
    "While there are many online resources about programming, not all of the them are created equal. This list of resources is in approximate order of reliability.\n",
    "\n",
    "1. [The Python Tutorial](https://docs.python.org/3/tutorial/) - This section of the official documentation surveys Python's syntax and standard library. It uses examples, and is written using less technical language than the main documentation. Make sure you're reading the Python 3 version of the docs!\n",
    "2. [The Python Language and Library References](https://docs.python.org/3/index.html) - The Language Reference and Library Reference are more technical than the tutorial, but they are the definitive sources of truth. As you become increasingly acquainted with Python you should use these resources more and more.\n",
    "3. [Third-Party Library Documentation](https://readthedocs.org/) - Third-party libraries publish their documentation on their own websites, and often times at https://readthedocs.org/. You can judge the quality of a third-party library by the quality of its documentation. If the developers haven't found time to write good docs, they probably haven't found the time to polish their library either.\n",
    "4. The websites and blogs of prominent experts - The previous resources are primary sources, meaning that they are documentation from the same people who wrote the code being documented. Primary sources are the most reliable. Secondary sources are also extremely valuable. The difficulty with secondary sources is determining the credibility of the source. The websites of authors like [Doug Hellmann](https://doughellmann.com/blog/) and developers like [Eli Bendersky](https://eli.thegreenplace.net/) are excellent. The blog of an unknown author might be excellent, or it might be rubbish.\n",
    "5. [StackOverflow](https://stackoverflow.com/) - This question and answer site has a good amount of traffic, so it's likely that someone has asked (and someone has answered) a related question before! However, answers are provided by volunteers and vary in quality. Always understand solutions before putting them into your program. One line answers without any explanation are dubious. This is a good place to find out more about your question or discover alternative search terms.\n",
    "6. Bug Trackers - Sometimes you'll encounter a problem so rare, or so new, that no one has addressed it on StackOverflow. You might find a reference to your error in a bug report on GitHub for instance. These bug reports can be helpful, but you'll probably have to do some original engineering work to solve the problem.\n",
    "7. Random Web Forums - Sometimes your search yields references to forums that haven't been active since 2004, or some similarly ancient time. If these are the only resources that address your problem, you should rethink how you're approaching your solution."
   ]
  },
  {
   "cell_type": "code",
   "execution_count": 79,
   "metadata": {},
   "outputs": [
    {
     "name": "stdout",
     "output_type": "stream",
     "text": [
      "Enter your First [space] Last name only: Wilder Trek\n",
      "Unique flower name with the first letter: Whirling Butterflies\n"
     ]
    }
   ],
   "source": [
    "# function that creates a flower_dictionary from filename\n",
    "def create_flowerdict(filename):\n",
    "    flower_dict = {}\n",
    "    with open(filename) as f:\n",
    "        for line in f:\n",
    "            letter = line.split(\": \")[0].lower() \n",
    "            flower = line.split(\": \")[1].strip()\n",
    "            flower_dict[letter] = flower\n",
    "    return flower_dict\n",
    "\n",
    "# Main function that prompts for user input, parses out the first letter\n",
    "# includes function call for create_flowerdict to create dictionary\n",
    "def main(): \n",
    "    flower_d = create_flowerdict('scripts/flowers.txt')\n",
    "    full_name = input(\"Enter your First [space] Last name only: \")\n",
    "    first_name = full_name[0].lower()\n",
    "    first_letter = first_name[0]\n",
    "# print command that prints final input with value from corresponding key in dictionary\n",
    "    print(\"Unique flower name with the first letter: {}\".format(flower_d[first_letter]))\n",
    "\n",
    "main()"
   ]
  }
 ],
 "metadata": {
  "kernelspec": {
   "display_name": "Python 3",
   "language": "python",
   "name": "python3"
  },
  "language_info": {
   "codemirror_mode": {
    "name": "ipython",
    "version": 3
   },
   "file_extension": ".py",
   "mimetype": "text/x-python",
   "name": "python",
   "nbconvert_exporter": "python",
   "pygments_lexer": "ipython3",
   "version": "3.7.4"
  }
 },
 "nbformat": 4,
 "nbformat_minor": 4
}
